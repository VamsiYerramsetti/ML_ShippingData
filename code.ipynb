{
 "cells": [
  {
   "cell_type": "code",
   "execution_count": 1,
   "metadata": {},
   "outputs": [],
   "source": [
    "import pandas as pd\n",
    "import numpy as np\n",
    "import seaborn as sns\n",
    "import matplotlib.pyplot as plt\n",
    "import warnings\n",
    "%matplotlib inline\n",
    "warnings.filterwarnings('ignore')\n"
   ]
  },
  {
   "cell_type": "code",
   "execution_count": 4,
   "metadata": {},
   "outputs": [
    {
     "data": {
      "text/html": [
       "<div>\n",
       "<style scoped>\n",
       "    .dataframe tbody tr th:only-of-type {\n",
       "        vertical-align: middle;\n",
       "    }\n",
       "\n",
       "    .dataframe tbody tr th {\n",
       "        vertical-align: top;\n",
       "    }\n",
       "\n",
       "    .dataframe thead th {\n",
       "        text-align: right;\n",
       "    }\n",
       "</style>\n",
       "<table border=\"1\" class=\"dataframe\">\n",
       "  <thead>\n",
       "    <tr style=\"text-align: right;\">\n",
       "      <th></th>\n",
       "      <th>trip</th>\n",
       "      <th>dt</th>\n",
       "      <th>x</th>\n",
       "      <th>y</th>\n",
       "      <th>speed</th>\n",
       "      <th>u</th>\n",
       "      <th>v</th>\n",
       "      <th>cog</th>\n",
       "      <th>heading</th>\n",
       "      <th>lat</th>\n",
       "      <th>lon</th>\n",
       "      <th>draft</th>\n",
       "      <th>rudder</th>\n",
       "      <th>rot_realized</th>\n",
       "    </tr>\n",
       "  </thead>\n",
       "  <tbody>\n",
       "    <tr>\n",
       "      <th>0</th>\n",
       "      <td>0</td>\n",
       "      <td>2021-06-28T08:00:00.021959+00:00</td>\n",
       "      <td>3922397.017</td>\n",
       "      <td>3149397.297</td>\n",
       "      <td>0.005144</td>\n",
       "      <td>0.001227</td>\n",
       "      <td>0.004996</td>\n",
       "      <td>256.259075</td>\n",
       "      <td>180.054982</td>\n",
       "      <td>51.314869</td>\n",
       "      <td>4.276195</td>\n",
       "      <td>2.4845</td>\n",
       "      <td>-0.4</td>\n",
       "      <td>0.8</td>\n",
       "    </tr>\n",
       "    <tr>\n",
       "      <th>1</th>\n",
       "      <td>0</td>\n",
       "      <td>2021-06-28T08:00:00.372474+00:00</td>\n",
       "      <td>3922397.019</td>\n",
       "      <td>3149397.316</td>\n",
       "      <td>0.000000</td>\n",
       "      <td>0.000000</td>\n",
       "      <td>0.000000</td>\n",
       "      <td>260.783315</td>\n",
       "      <td>180.054982</td>\n",
       "      <td>51.314869</td>\n",
       "      <td>4.276195</td>\n",
       "      <td>2.4845</td>\n",
       "      <td>-0.7</td>\n",
       "      <td>0.8</td>\n",
       "    </tr>\n",
       "    <tr>\n",
       "      <th>2</th>\n",
       "      <td>0</td>\n",
       "      <td>2021-06-28T08:00:00.845801+00:00</td>\n",
       "      <td>3922397.017</td>\n",
       "      <td>3149397.297</td>\n",
       "      <td>0.005144</td>\n",
       "      <td>0.000709</td>\n",
       "      <td>0.005095</td>\n",
       "      <td>262.131445</td>\n",
       "      <td>180.055672</td>\n",
       "      <td>51.314869</td>\n",
       "      <td>4.276195</td>\n",
       "      <td>2.4845</td>\n",
       "      <td>-0.4</td>\n",
       "      <td>0.8</td>\n",
       "    </tr>\n",
       "    <tr>\n",
       "      <th>3</th>\n",
       "      <td>0</td>\n",
       "      <td>2021-06-28T08:00:01.350369+00:00</td>\n",
       "      <td>3922397.007</td>\n",
       "      <td>3149397.316</td>\n",
       "      <td>0.005144</td>\n",
       "      <td>-0.000206</td>\n",
       "      <td>0.005140</td>\n",
       "      <td>272.355535</td>\n",
       "      <td>180.055672</td>\n",
       "      <td>51.314869</td>\n",
       "      <td>4.276195</td>\n",
       "      <td>2.4845</td>\n",
       "      <td>-0.4</td>\n",
       "      <td>0.8</td>\n",
       "    </tr>\n",
       "    <tr>\n",
       "      <th>4</th>\n",
       "      <td>0</td>\n",
       "      <td>2021-06-28T08:00:01.462386+00:00</td>\n",
       "      <td>3922397.007</td>\n",
       "      <td>3149397.316</td>\n",
       "      <td>0.005144</td>\n",
       "      <td>-0.000207</td>\n",
       "      <td>0.005140</td>\n",
       "      <td>272.355535</td>\n",
       "      <td>180.049809</td>\n",
       "      <td>51.314869</td>\n",
       "      <td>4.276195</td>\n",
       "      <td>2.4850</td>\n",
       "      <td>-0.4</td>\n",
       "      <td>0.8</td>\n",
       "    </tr>\n",
       "  </tbody>\n",
       "</table>\n",
       "</div>"
      ],
      "text/plain": [
       "   trip                                dt            x            y     speed  \\\n",
       "0     0  2021-06-28T08:00:00.021959+00:00  3922397.017  3149397.297  0.005144   \n",
       "1     0  2021-06-28T08:00:00.372474+00:00  3922397.019  3149397.316  0.000000   \n",
       "2     0  2021-06-28T08:00:00.845801+00:00  3922397.017  3149397.297  0.005144   \n",
       "3     0  2021-06-28T08:00:01.350369+00:00  3922397.007  3149397.316  0.005144   \n",
       "4     0  2021-06-28T08:00:01.462386+00:00  3922397.007  3149397.316  0.005144   \n",
       "\n",
       "          u         v         cog     heading        lat       lon   draft  \\\n",
       "0  0.001227  0.004996  256.259075  180.054982  51.314869  4.276195  2.4845   \n",
       "1  0.000000  0.000000  260.783315  180.054982  51.314869  4.276195  2.4845   \n",
       "2  0.000709  0.005095  262.131445  180.055672  51.314869  4.276195  2.4845   \n",
       "3 -0.000206  0.005140  272.355535  180.055672  51.314869  4.276195  2.4845   \n",
       "4 -0.000207  0.005140  272.355535  180.049809  51.314869  4.276195  2.4850   \n",
       "\n",
       "   rudder  rot_realized  \n",
       "0    -0.4           0.8  \n",
       "1    -0.7           0.8  \n",
       "2    -0.4           0.8  \n",
       "3    -0.4           0.8  \n",
       "4    -0.4           0.8  "
      ]
     },
     "execution_count": 4,
     "metadata": {},
     "output_type": "execute_result"
    }
   ],
   "source": [
    "st=pd.read_csv('shippingtechupdated.csv')\n",
    "st.head()"
   ]
  },
  {
   "cell_type": "code",
   "execution_count": null,
   "metadata": {},
   "outputs": [],
   "source": [
    "# **Information of the dataset**"
   ]
  },
  {
   "cell_type": "code",
   "execution_count": 102,
   "metadata": {},
   "outputs": [
    {
     "data": {
      "text/html": [
       "<div>\n",
       "<style scoped>\n",
       "    .dataframe tbody tr th:only-of-type {\n",
       "        vertical-align: middle;\n",
       "    }\n",
       "\n",
       "    .dataframe tbody tr th {\n",
       "        vertical-align: top;\n",
       "    }\n",
       "\n",
       "    .dataframe thead th {\n",
       "        text-align: right;\n",
       "    }\n",
       "</style>\n",
       "<table border=\"1\" class=\"dataframe\">\n",
       "  <thead>\n",
       "    <tr style=\"text-align: right;\">\n",
       "      <th></th>\n",
       "      <th>trip</th>\n",
       "      <th>x</th>\n",
       "      <th>y</th>\n",
       "      <th>speed</th>\n",
       "      <th>u</th>\n",
       "      <th>v</th>\n",
       "      <th>cog</th>\n",
       "      <th>heading</th>\n",
       "      <th>lat</th>\n",
       "      <th>lon</th>\n",
       "      <th>draft</th>\n",
       "      <th>rudder</th>\n",
       "      <th>rot_realized</th>\n",
       "    </tr>\n",
       "  </thead>\n",
       "  <tbody>\n",
       "    <tr>\n",
       "      <th>count</th>\n",
       "      <td>479813.000000</td>\n",
       "      <td>4.798130e+05</td>\n",
       "      <td>4.798130e+05</td>\n",
       "      <td>479813.000000</td>\n",
       "      <td>479813.000000</td>\n",
       "      <td>479813.000000</td>\n",
       "      <td>479813.000000</td>\n",
       "      <td>479813.000000</td>\n",
       "      <td>479813.000000</td>\n",
       "      <td>479813.000000</td>\n",
       "      <td>170033.000000</td>\n",
       "      <td>479813.000000</td>\n",
       "      <td>479813.000000</td>\n",
       "    </tr>\n",
       "    <tr>\n",
       "      <th>mean</th>\n",
       "      <td>8.966854</td>\n",
       "      <td>4.002232e+06</td>\n",
       "      <td>3.177616e+06</td>\n",
       "      <td>2.850689</td>\n",
       "      <td>2.817100</td>\n",
       "      <td>0.031783</td>\n",
       "      <td>179.784895</td>\n",
       "      <td>172.287432</td>\n",
       "      <td>51.613781</td>\n",
       "      <td>5.392664</td>\n",
       "      <td>1.812151</td>\n",
       "      <td>-1.152341</td>\n",
       "      <td>0.548993</td>\n",
       "    </tr>\n",
       "    <tr>\n",
       "      <th>std</th>\n",
       "      <td>3.691014</td>\n",
       "      <td>7.229914e+04</td>\n",
       "      <td>2.710886e+04</td>\n",
       "      <td>1.992603</td>\n",
       "      <td>2.015749</td>\n",
       "      <td>0.310781</td>\n",
       "      <td>95.787247</td>\n",
       "      <td>97.553897</td>\n",
       "      <td>0.232904</td>\n",
       "      <td>1.049494</td>\n",
       "      <td>0.486489</td>\n",
       "      <td>18.679328</td>\n",
       "      <td>6.208433</td>\n",
       "    </tr>\n",
       "    <tr>\n",
       "      <th>min</th>\n",
       "      <td>0.000000</td>\n",
       "      <td>3.908791e+06</td>\n",
       "      <td>3.127966e+06</td>\n",
       "      <td>0.000000</td>\n",
       "      <td>-1.969797</td>\n",
       "      <td>-3.043025</td>\n",
       "      <td>0.001388</td>\n",
       "      <td>0.000243</td>\n",
       "      <td>51.217422</td>\n",
       "      <td>3.995473</td>\n",
       "      <td>1.049500</td>\n",
       "      <td>-90.900000</td>\n",
       "      <td>-99.500000</td>\n",
       "    </tr>\n",
       "    <tr>\n",
       "      <th>25%</th>\n",
       "      <td>7.000000</td>\n",
       "      <td>3.923323e+06</td>\n",
       "      <td>3.151512e+06</td>\n",
       "      <td>0.252078</td>\n",
       "      <td>0.063860</td>\n",
       "      <td>-0.054898</td>\n",
       "      <td>99.802400</td>\n",
       "      <td>95.919631</td>\n",
       "      <td>51.380343</td>\n",
       "      <td>4.277997</td>\n",
       "      <td>1.300000</td>\n",
       "      <td>-1.600000</td>\n",
       "      <td>-1.100000</td>\n",
       "    </tr>\n",
       "    <tr>\n",
       "      <th>50%</th>\n",
       "      <td>8.000000</td>\n",
       "      <td>3.996494e+06</td>\n",
       "      <td>3.179354e+06</td>\n",
       "      <td>3.220422</td>\n",
       "      <td>3.215007</td>\n",
       "      <td>0.000000</td>\n",
       "      <td>169.333848</td>\n",
       "      <td>151.675564</td>\n",
       "      <td>51.654861</td>\n",
       "      <td>5.289718</td>\n",
       "      <td>1.840000</td>\n",
       "      <td>-0.100000</td>\n",
       "      <td>0.600000</td>\n",
       "    </tr>\n",
       "    <tr>\n",
       "      <th>75%</th>\n",
       "      <td>13.000000</td>\n",
       "      <td>4.087197e+06</td>\n",
       "      <td>3.202188e+06</td>\n",
       "      <td>4.367633</td>\n",
       "      <td>4.355669</td>\n",
       "      <td>0.134304</td>\n",
       "      <td>269.353363</td>\n",
       "      <td>257.841135</td>\n",
       "      <td>51.825849</td>\n",
       "      <td>6.626621</td>\n",
       "      <td>2.404500</td>\n",
       "      <td>2.900000</td>\n",
       "      <td>2.500000</td>\n",
       "    </tr>\n",
       "    <tr>\n",
       "      <th>max</th>\n",
       "      <td>15.000000</td>\n",
       "      <td>4.095453e+06</td>\n",
       "      <td>3.224413e+06</td>\n",
       "      <td>6.301944</td>\n",
       "      <td>6.301944</td>\n",
       "      <td>2.767639</td>\n",
       "      <td>359.998522</td>\n",
       "      <td>359.995312</td>\n",
       "      <td>51.977484</td>\n",
       "      <td>6.769625</td>\n",
       "      <td>2.519500</td>\n",
       "      <td>91.100000</td>\n",
       "      <td>88.700000</td>\n",
       "    </tr>\n",
       "  </tbody>\n",
       "</table>\n",
       "</div>"
      ],
      "text/plain": [
       "                trip             x             y          speed  \\\n",
       "count  479813.000000  4.798130e+05  4.798130e+05  479813.000000   \n",
       "mean        8.966854  4.002232e+06  3.177616e+06       2.850689   \n",
       "std         3.691014  7.229914e+04  2.710886e+04       1.992603   \n",
       "min         0.000000  3.908791e+06  3.127966e+06       0.000000   \n",
       "25%         7.000000  3.923323e+06  3.151512e+06       0.252078   \n",
       "50%         8.000000  3.996494e+06  3.179354e+06       3.220422   \n",
       "75%        13.000000  4.087197e+06  3.202188e+06       4.367633   \n",
       "max        15.000000  4.095453e+06  3.224413e+06       6.301944   \n",
       "\n",
       "                   u              v            cog        heading  \\\n",
       "count  479813.000000  479813.000000  479813.000000  479813.000000   \n",
       "mean        2.817100       0.031783     179.784895     172.287432   \n",
       "std         2.015749       0.310781      95.787247      97.553897   \n",
       "min        -1.969797      -3.043025       0.001388       0.000243   \n",
       "25%         0.063860      -0.054898      99.802400      95.919631   \n",
       "50%         3.215007       0.000000     169.333848     151.675564   \n",
       "75%         4.355669       0.134304     269.353363     257.841135   \n",
       "max         6.301944       2.767639     359.998522     359.995312   \n",
       "\n",
       "                 lat            lon          draft         rudder  \\\n",
       "count  479813.000000  479813.000000  170033.000000  479813.000000   \n",
       "mean       51.613781       5.392664       1.812151      -1.152341   \n",
       "std         0.232904       1.049494       0.486489      18.679328   \n",
       "min        51.217422       3.995473       1.049500     -90.900000   \n",
       "25%        51.380343       4.277997       1.300000      -1.600000   \n",
       "50%        51.654861       5.289718       1.840000      -0.100000   \n",
       "75%        51.825849       6.626621       2.404500       2.900000   \n",
       "max        51.977484       6.769625       2.519500      91.100000   \n",
       "\n",
       "        rot_realized  \n",
       "count  479813.000000  \n",
       "mean        0.548993  \n",
       "std         6.208433  \n",
       "min       -99.500000  \n",
       "25%        -1.100000  \n",
       "50%         0.600000  \n",
       "75%         2.500000  \n",
       "max        88.700000  "
      ]
     },
     "execution_count": 102,
     "metadata": {},
     "output_type": "execute_result"
    }
   ],
   "source": [
    "# statistical info\n",
    "st.describe()\n"
   ]
  },
  {
   "cell_type": "code",
   "execution_count": 103,
   "metadata": {},
   "outputs": [
    {
     "name": "stdout",
     "output_type": "stream",
     "text": [
      "<class 'pandas.core.frame.DataFrame'>\n",
      "RangeIndex: 479813 entries, 0 to 479812\n",
      "Data columns (total 14 columns):\n",
      " #   Column        Non-Null Count   Dtype  \n",
      "---  ------        --------------   -----  \n",
      " 0   trip          479813 non-null  int64  \n",
      " 1   dt            479813 non-null  object \n",
      " 2   x             479813 non-null  float64\n",
      " 3   y             479813 non-null  float64\n",
      " 4   speed         479813 non-null  float64\n",
      " 5   u             479813 non-null  float64\n",
      " 6   v             479813 non-null  float64\n",
      " 7   cog           479813 non-null  float64\n",
      " 8   heading       479813 non-null  float64\n",
      " 9   lat           479813 non-null  float64\n",
      " 10  lon           479813 non-null  float64\n",
      " 11  draft         170033 non-null  float64\n",
      " 12  rudder        479813 non-null  float64\n",
      " 13  rot_realized  479813 non-null  float64\n",
      "dtypes: float64(12), int64(1), object(1)\n",
      "memory usage: 51.2+ MB\n"
     ]
    }
   ],
   "source": [
    "# datatype of attributes\n",
    "st.info()"
   ]
  },
  {
   "cell_type": "code",
   "execution_count": null,
   "metadata": {},
   "outputs": [],
   "source": [
    "#Preprocessing of data"
   ]
  },
  {
   "cell_type": "code",
   "execution_count": 104,
   "metadata": {},
   "outputs": [
    {
     "data": {
      "text/plain": [
       "trip                 0\n",
       "dt                   0\n",
       "x                    0\n",
       "y                    0\n",
       "speed                0\n",
       "u                    0\n",
       "v                    0\n",
       "cog                  0\n",
       "heading              0\n",
       "lat                  0\n",
       "lon                  0\n",
       "draft           309780\n",
       "rudder               0\n",
       "rot_realized         0\n",
       "dtype: int64"
      ]
     },
     "execution_count": 104,
     "metadata": {},
     "output_type": "execute_result"
    }
   ],
   "source": [
    "#Findin number of null values in each column\n",
    "st.isnull().sum()"
   ]
  },
  {
   "cell_type": "code",
   "execution_count": 10,
   "metadata": {},
   "outputs": [
    {
     "ename": "ValueError",
     "evalue": "No axis named collumns for object type <class 'pandas.core.frame.DataFrame'>",
     "output_type": "error",
     "traceback": [
      "\u001b[1;31m---------------------------------------------------------------------------\u001b[0m",
      "\u001b[1;31mValueError\u001b[0m                                Traceback (most recent call last)",
      "\u001b[1;32m<ipython-input-10-ae8dcfd790b2>\u001b[0m in \u001b[0;36m<module>\u001b[1;34m\u001b[0m\n\u001b[1;32m----> 1\u001b[1;33m \u001b[0mv\u001b[0m\u001b[1;33m=\u001b[0m\u001b[0mst\u001b[0m\u001b[1;33m.\u001b[0m\u001b[0mdrop\u001b[0m\u001b[1;33m(\u001b[0m\u001b[1;34m\"draft\"\u001b[0m\u001b[1;33m,\u001b[0m \u001b[0maxis\u001b[0m\u001b[1;33m=\u001b[0m\u001b[1;34m'collumns'\u001b[0m\u001b[1;33m)\u001b[0m\u001b[1;33m\u001b[0m\u001b[1;33m\u001b[0m\u001b[0m\n\u001b[0m",
      "\u001b[1;32m~\\anaconda3\\lib\\site-packages\\pandas\\core\\frame.py\u001b[0m in \u001b[0;36mdrop\u001b[1;34m(self, labels, axis, index, columns, level, inplace, errors)\u001b[0m\n\u001b[0;32m   3988\u001b[0m                 \u001b[0mweight\u001b[0m  \u001b[1;36m1.0\u001b[0m     \u001b[1;36m0.8\u001b[0m\u001b[1;33m\u001b[0m\u001b[1;33m\u001b[0m\u001b[0m\n\u001b[0;32m   3989\u001b[0m         \"\"\"\n\u001b[1;32m-> 3990\u001b[1;33m         return super().drop(\n\u001b[0m\u001b[0;32m   3991\u001b[0m             \u001b[0mlabels\u001b[0m\u001b[1;33m=\u001b[0m\u001b[0mlabels\u001b[0m\u001b[1;33m,\u001b[0m\u001b[1;33m\u001b[0m\u001b[1;33m\u001b[0m\u001b[0m\n\u001b[0;32m   3992\u001b[0m             \u001b[0maxis\u001b[0m\u001b[1;33m=\u001b[0m\u001b[0maxis\u001b[0m\u001b[1;33m,\u001b[0m\u001b[1;33m\u001b[0m\u001b[1;33m\u001b[0m\u001b[0m\n",
      "\u001b[1;32m~\\anaconda3\\lib\\site-packages\\pandas\\core\\generic.py\u001b[0m in \u001b[0;36mdrop\u001b[1;34m(self, labels, axis, index, columns, level, inplace, errors)\u001b[0m\n\u001b[0;32m   3921\u001b[0m             \u001b[1;32mif\u001b[0m \u001b[0mindex\u001b[0m \u001b[1;32mis\u001b[0m \u001b[1;32mnot\u001b[0m \u001b[1;32mNone\u001b[0m \u001b[1;32mor\u001b[0m \u001b[0mcolumns\u001b[0m \u001b[1;32mis\u001b[0m \u001b[1;32mnot\u001b[0m \u001b[1;32mNone\u001b[0m\u001b[1;33m:\u001b[0m\u001b[1;33m\u001b[0m\u001b[1;33m\u001b[0m\u001b[0m\n\u001b[0;32m   3922\u001b[0m                 \u001b[1;32mraise\u001b[0m \u001b[0mValueError\u001b[0m\u001b[1;33m(\u001b[0m\u001b[1;34m\"Cannot specify both 'labels' and 'index'/'columns'\"\u001b[0m\u001b[1;33m)\u001b[0m\u001b[1;33m\u001b[0m\u001b[1;33m\u001b[0m\u001b[0m\n\u001b[1;32m-> 3923\u001b[1;33m             \u001b[0maxis_name\u001b[0m \u001b[1;33m=\u001b[0m \u001b[0mself\u001b[0m\u001b[1;33m.\u001b[0m\u001b[0m_get_axis_name\u001b[0m\u001b[1;33m(\u001b[0m\u001b[0maxis\u001b[0m\u001b[1;33m)\u001b[0m\u001b[1;33m\u001b[0m\u001b[1;33m\u001b[0m\u001b[0m\n\u001b[0m\u001b[0;32m   3924\u001b[0m             \u001b[0maxes\u001b[0m \u001b[1;33m=\u001b[0m \u001b[1;33m{\u001b[0m\u001b[0maxis_name\u001b[0m\u001b[1;33m:\u001b[0m \u001b[0mlabels\u001b[0m\u001b[1;33m}\u001b[0m\u001b[1;33m\u001b[0m\u001b[1;33m\u001b[0m\u001b[0m\n\u001b[0;32m   3925\u001b[0m         \u001b[1;32melif\u001b[0m \u001b[0mindex\u001b[0m \u001b[1;32mis\u001b[0m \u001b[1;32mnot\u001b[0m \u001b[1;32mNone\u001b[0m \u001b[1;32mor\u001b[0m \u001b[0mcolumns\u001b[0m \u001b[1;32mis\u001b[0m \u001b[1;32mnot\u001b[0m \u001b[1;32mNone\u001b[0m\u001b[1;33m:\u001b[0m\u001b[1;33m\u001b[0m\u001b[1;33m\u001b[0m\u001b[0m\n",
      "\u001b[1;32m~\\anaconda3\\lib\\site-packages\\pandas\\core\\generic.py\u001b[0m in \u001b[0;36m_get_axis_name\u001b[1;34m(cls, axis)\u001b[0m\n\u001b[0;32m    418\u001b[0m             \u001b[1;32mexcept\u001b[0m \u001b[0mKeyError\u001b[0m\u001b[1;33m:\u001b[0m\u001b[1;33m\u001b[0m\u001b[1;33m\u001b[0m\u001b[0m\n\u001b[0;32m    419\u001b[0m                 \u001b[1;32mpass\u001b[0m\u001b[1;33m\u001b[0m\u001b[1;33m\u001b[0m\u001b[0m\n\u001b[1;32m--> 420\u001b[1;33m         \u001b[1;32mraise\u001b[0m \u001b[0mValueError\u001b[0m\u001b[1;33m(\u001b[0m\u001b[1;34mf\"No axis named {axis} for object type {cls}\"\u001b[0m\u001b[1;33m)\u001b[0m\u001b[1;33m\u001b[0m\u001b[1;33m\u001b[0m\u001b[0m\n\u001b[0m\u001b[0;32m    421\u001b[0m \u001b[1;33m\u001b[0m\u001b[0m\n\u001b[0;32m    422\u001b[0m     \u001b[1;32mdef\u001b[0m \u001b[0m_get_axis\u001b[0m\u001b[1;33m(\u001b[0m\u001b[0mself\u001b[0m\u001b[1;33m,\u001b[0m \u001b[0maxis\u001b[0m\u001b[1;33m)\u001b[0m\u001b[1;33m:\u001b[0m\u001b[1;33m\u001b[0m\u001b[1;33m\u001b[0m\u001b[0m\n",
      "\u001b[1;31mValueError\u001b[0m: No axis named collumns for object type <class 'pandas.core.frame.DataFrame'>"
     ]
    }
   ],
   "source": []
  },
  {
   "cell_type": "code",
   "execution_count": 105,
   "metadata": {},
   "outputs": [
    {
     "data": {
      "text/plain": [
       "trip                16\n",
       "dt              479813\n",
       "x               365234\n",
       "y               365570\n",
       "speed             1226\n",
       "u               430144\n",
       "v               430605\n",
       "cog             447801\n",
       "heading         216369\n",
       "lat             318310\n",
       "lon             335684\n",
       "draft             1816\n",
       "rudder             576\n",
       "rot_realized       784\n",
       "dtype: int64"
      ]
     },
     "execution_count": 105,
     "metadata": {},
     "output_type": "execute_result"
    }
   ],
   "source": [
    "st.apply(lambda x: len(x.unique()))"
   ]
  },
  {
   "cell_type": "code",
   "execution_count": null,
   "metadata": {},
   "outputs": [],
   "source": []
  },
  {
   "cell_type": "code",
   "execution_count": 106,
   "metadata": {},
   "outputs": [
    {
     "data": {
      "text/plain": [
       "['trip',\n",
       " 'x',\n",
       " 'y',\n",
       " 'speed',\n",
       " 'u',\n",
       " 'v',\n",
       " 'cog',\n",
       " 'heading',\n",
       " 'lat',\n",
       " 'lon',\n",
       " 'draft',\n",
       " 'rudder',\n",
       " 'rot_realized']"
      ]
     },
     "execution_count": 106,
     "metadata": {},
     "output_type": "execute_result"
    }
   ],
   "source": [
    "# check for categorical attributes\n",
    "cat_col = []\n",
    "for x in st.dtypes.index:\n",
    "    if st.dtypes[x] == 'float64':\n",
    "        cat_col.append(x)\n",
    "    if st.dtypes[x] == 'int64':\n",
    "        cat_col.append(x)\n",
    "cat_col"
   ]
  },
  {
   "cell_type": "code",
   "execution_count": 107,
   "metadata": {},
   "outputs": [
    {
     "data": {
      "text/plain": [
       "['x',\n",
       " 'y',\n",
       " 'speed',\n",
       " 'u',\n",
       " 'v',\n",
       " 'cog',\n",
       " 'heading',\n",
       " 'lat',\n",
       " 'lon',\n",
       " 'draft',\n",
       " 'rudder',\n",
       " 'rot_realized']"
      ]
     },
     "execution_count": 107,
     "metadata": {},
     "output_type": "execute_result"
    }
   ],
   "source": [
    "cat_col.remove('trip')\n",
    "cat_col"
   ]
  },
  {
   "cell_type": "code",
   "execution_count": 108,
   "metadata": {},
   "outputs": [
    {
     "name": "stdout",
     "output_type": "stream",
     "text": [
      "x\n",
      "3922400.492    193\n",
      "3922400.502    149\n",
      "3922400.500    147\n",
      "3922400.457    117\n",
      "3922400.489    111\n",
      "              ... \n",
      "3920579.076      1\n",
      "3920580.826      1\n",
      "4093324.248      1\n",
      "4039485.195      1\n",
      "3925345.068      1\n",
      "Name: x, Length: 365234, dtype: int64\n",
      "\n",
      "y\n",
      "3149478.751    149\n",
      "3149478.824    143\n",
      "3149478.770    132\n",
      "3190515.714    126\n",
      "3147537.481    120\n",
      "              ... \n",
      "3202019.764      1\n",
      "3148094.656      1\n",
      "3207220.365      1\n",
      "3150392.374      1\n",
      "3153032.815      1\n",
      "Name: y, Length: 365570, dtype: int64\n",
      "\n",
      "speed\n",
      "0.000000    47994\n",
      "0.005144    43512\n",
      "0.010289     8426\n",
      "0.015433     3588\n",
      "0.020578     1998\n",
      "            ...  \n",
      "6.291656       28\n",
      "6.204200       26\n",
      "6.271078       23\n",
      "6.281367       16\n",
      "6.286511       16\n",
      "Name: speed, Length: 1226, dtype: int64\n",
      "\n",
      "u\n",
      " 0.000000    47994\n",
      " 0.005144       12\n",
      "-0.005144        8\n",
      " 0.005144        6\n",
      " 0.005144        6\n",
      "             ...  \n",
      " 4.402799        1\n",
      " 5.807955        1\n",
      " 3.848962        1\n",
      " 2.813754        1\n",
      " 5.595992        1\n",
      "Name: u, Length: 430144, dtype: int64\n",
      "\n",
      "v\n",
      " 0.000000    47994\n",
      " 0.005144        7\n",
      " 0.005144        6\n",
      "-0.454472        5\n",
      " 0.000031        5\n",
      "             ...  \n",
      " 0.001312        1\n",
      "-0.089686        1\n",
      "-1.076999        1\n",
      "-0.233061        1\n",
      "-0.085945        1\n",
      "Name: v, Length: 430605, dtype: int64\n",
      "\n",
      "cog\n",
      "52.510431     50\n",
      "342.313594    38\n",
      "166.540064    37\n",
      "97.901624     34\n",
      "182.911113    31\n",
      "              ..\n",
      "265.028739     1\n",
      "266.325290     1\n",
      "256.984073     1\n",
      "175.554554     1\n",
      "304.682678     1\n",
      "Name: cog, Length: 447801, dtype: int64\n",
      "\n",
      "heading\n",
      "180.153133    52\n",
      "359.382315    49\n",
      "233.624521    48\n",
      "359.456402    46\n",
      "179.744486    46\n",
      "              ..\n",
      "122.659956     1\n",
      "176.786514     1\n",
      "313.693877     1\n",
      "254.228274     1\n",
      "42.378107      1\n",
      "Name: heading, Length: 216369, dtype: int64\n",
      "\n",
      "lat\n",
      "51.299003    481\n",
      "51.315601    436\n",
      "51.299003    423\n",
      "51.315602    415\n",
      "51.314869    413\n",
      "            ... \n",
      "51.482022      1\n",
      "51.800706      1\n",
      "51.299158      1\n",
      "51.798091      1\n",
      "51.826756      1\n",
      "Name: lat, Length: 318310, dtype: int64\n",
      "\n",
      "lon\n",
      "4.276154    664\n",
      "4.276154    634\n",
      "4.276154    550\n",
      "4.276154    473\n",
      "4.276154    411\n",
      "           ... \n",
      "4.230963      1\n",
      "5.192257      1\n",
      "4.214933      1\n",
      "4.231379      1\n",
      "6.442441      1\n",
      "Name: lon, Length: 335684, dtype: int64\n",
      "\n",
      "draft\n",
      "1.1060    895\n",
      "2.4355    813\n",
      "2.4360    813\n",
      "1.1050    812\n",
      "2.4365    806\n",
      "         ... \n",
      "1.5650      1\n",
      "2.5160      1\n",
      "1.5530      1\n",
      "1.2220      1\n",
      "1.5380      1\n",
      "Name: draft, Length: 1815, dtype: int64\n",
      "\n",
      "rudder\n",
      "-1.3     43297\n",
      "-1.6     24644\n",
      "-1.0     22236\n",
      " 1.1     18186\n",
      "-0.7     17507\n",
      "         ...  \n",
      "-82.2        1\n",
      "-88.3        1\n",
      "-88.0        1\n",
      "-89.1        1\n",
      "-81.9        1\n",
      "Name: rudder, Length: 576, dtype: int64\n",
      "\n",
      "rot_realized\n",
      " 0.8     48989\n",
      " 0.6     44091\n",
      " 0.4     21216\n",
      " 1.0     14960\n",
      " 0.2     12504\n",
      "         ...  \n",
      "-77.5        1\n",
      "-95.6        1\n",
      " 44.1        1\n",
      "-52.0        1\n",
      " 72.7        1\n",
      "Name: rot_realized, Length: 784, dtype: int64\n",
      "\n"
     ]
    }
   ],
   "source": [
    "#Categorizing each collumn\n",
    "\n",
    "for col in cat_col:\n",
    "    print(col)\n",
    "    print(st[col].value_counts())\n",
    "    print()"
   ]
  },
  {
   "cell_type": "code",
   "execution_count": 109,
   "metadata": {},
   "outputs": [
    {
     "data": {
      "text/html": [
       "<div>\n",
       "<style scoped>\n",
       "    .dataframe tbody tr th:only-of-type {\n",
       "        vertical-align: middle;\n",
       "    }\n",
       "\n",
       "    .dataframe tbody tr th {\n",
       "        vertical-align: top;\n",
       "    }\n",
       "\n",
       "    .dataframe thead th {\n",
       "        text-align: right;\n",
       "    }\n",
       "</style>\n",
       "<table border=\"1\" class=\"dataframe\">\n",
       "  <thead>\n",
       "    <tr style=\"text-align: right;\">\n",
       "      <th></th>\n",
       "      <th>cog</th>\n",
       "      <th>heading</th>\n",
       "      <th>lat</th>\n",
       "      <th>lon</th>\n",
       "      <th>rot_realized</th>\n",
       "      <th>rudder</th>\n",
       "      <th>speed</th>\n",
       "      <th>trip</th>\n",
       "      <th>u</th>\n",
       "      <th>v</th>\n",
       "      <th>x</th>\n",
       "      <th>y</th>\n",
       "    </tr>\n",
       "    <tr>\n",
       "      <th>draft</th>\n",
       "      <th></th>\n",
       "      <th></th>\n",
       "      <th></th>\n",
       "      <th></th>\n",
       "      <th></th>\n",
       "      <th></th>\n",
       "      <th></th>\n",
       "      <th></th>\n",
       "      <th></th>\n",
       "      <th></th>\n",
       "      <th></th>\n",
       "      <th></th>\n",
       "    </tr>\n",
       "  </thead>\n",
       "  <tbody>\n",
       "    <tr>\n",
       "      <th>1.0495</th>\n",
       "      <td>214.801031</td>\n",
       "      <td>359.451127</td>\n",
       "      <td>51.315602</td>\n",
       "      <td>4.276154</td>\n",
       "      <td>0.6</td>\n",
       "      <td>-1.30</td>\n",
       "      <td>0.005144</td>\n",
       "      <td>1.0</td>\n",
       "      <td>-0.004196</td>\n",
       "      <td>-0.002976</td>\n",
       "      <td>3.922401e+06</td>\n",
       "      <td>3.149479e+06</td>\n",
       "    </tr>\n",
       "    <tr>\n",
       "      <th>1.0500</th>\n",
       "      <td>221.517330</td>\n",
       "      <td>359.451127</td>\n",
       "      <td>51.315602</td>\n",
       "      <td>4.276154</td>\n",
       "      <td>0.6</td>\n",
       "      <td>-1.30</td>\n",
       "      <td>0.005144</td>\n",
       "      <td>1.0</td>\n",
       "      <td>-0.003819</td>\n",
       "      <td>-0.003447</td>\n",
       "      <td>3.922401e+06</td>\n",
       "      <td>3.149479e+06</td>\n",
       "    </tr>\n",
       "    <tr>\n",
       "      <th>1.0515</th>\n",
       "      <td>216.487755</td>\n",
       "      <td>359.445411</td>\n",
       "      <td>51.315602</td>\n",
       "      <td>4.276154</td>\n",
       "      <td>0.6</td>\n",
       "      <td>-1.30</td>\n",
       "      <td>0.005144</td>\n",
       "      <td>1.0</td>\n",
       "      <td>-0.004104</td>\n",
       "      <td>-0.003098</td>\n",
       "      <td>3.922401e+06</td>\n",
       "      <td>3.149479e+06</td>\n",
       "    </tr>\n",
       "    <tr>\n",
       "      <th>1.0520</th>\n",
       "      <td>217.283622</td>\n",
       "      <td>359.445282</td>\n",
       "      <td>51.315602</td>\n",
       "      <td>4.276154</td>\n",
       "      <td>0.8</td>\n",
       "      <td>-1.30</td>\n",
       "      <td>0.005144</td>\n",
       "      <td>1.0</td>\n",
       "      <td>-0.004063</td>\n",
       "      <td>-0.003156</td>\n",
       "      <td>3.922401e+06</td>\n",
       "      <td>3.149479e+06</td>\n",
       "    </tr>\n",
       "    <tr>\n",
       "      <th>1.0525</th>\n",
       "      <td>217.283622</td>\n",
       "      <td>359.445473</td>\n",
       "      <td>51.315602</td>\n",
       "      <td>4.276154</td>\n",
       "      <td>0.6</td>\n",
       "      <td>-1.30</td>\n",
       "      <td>0.005144</td>\n",
       "      <td>1.0</td>\n",
       "      <td>-0.004063</td>\n",
       "      <td>-0.003156</td>\n",
       "      <td>3.922401e+06</td>\n",
       "      <td>3.149479e+06</td>\n",
       "    </tr>\n",
       "    <tr>\n",
       "      <th>...</th>\n",
       "      <td>...</td>\n",
       "      <td>...</td>\n",
       "      <td>...</td>\n",
       "      <td>...</td>\n",
       "      <td>...</td>\n",
       "      <td>...</td>\n",
       "      <td>...</td>\n",
       "      <td>...</td>\n",
       "      <td>...</td>\n",
       "      <td>...</td>\n",
       "      <td>...</td>\n",
       "      <td>...</td>\n",
       "    </tr>\n",
       "    <tr>\n",
       "      <th>2.5145</th>\n",
       "      <td>295.209049</td>\n",
       "      <td>180.261044</td>\n",
       "      <td>51.314868</td>\n",
       "      <td>4.276201</td>\n",
       "      <td>0.8</td>\n",
       "      <td>-0.55</td>\n",
       "      <td>0.000000</td>\n",
       "      <td>0.0</td>\n",
       "      <td>0.000000</td>\n",
       "      <td>0.000000</td>\n",
       "      <td>3.922397e+06</td>\n",
       "      <td>3.149397e+06</td>\n",
       "    </tr>\n",
       "    <tr>\n",
       "      <th>2.5155</th>\n",
       "      <td>266.450042</td>\n",
       "      <td>180.246330</td>\n",
       "      <td>51.314868</td>\n",
       "      <td>4.276201</td>\n",
       "      <td>0.8</td>\n",
       "      <td>-0.40</td>\n",
       "      <td>0.000000</td>\n",
       "      <td>0.0</td>\n",
       "      <td>0.000000</td>\n",
       "      <td>0.000000</td>\n",
       "      <td>3.922397e+06</td>\n",
       "      <td>3.149397e+06</td>\n",
       "    </tr>\n",
       "    <tr>\n",
       "      <th>2.5160</th>\n",
       "      <td>268.621637</td>\n",
       "      <td>180.246330</td>\n",
       "      <td>51.314868</td>\n",
       "      <td>4.276201</td>\n",
       "      <td>0.8</td>\n",
       "      <td>-0.40</td>\n",
       "      <td>0.000000</td>\n",
       "      <td>0.0</td>\n",
       "      <td>0.000000</td>\n",
       "      <td>0.000000</td>\n",
       "      <td>3.922397e+06</td>\n",
       "      <td>3.149397e+06</td>\n",
       "    </tr>\n",
       "    <tr>\n",
       "      <th>2.5185</th>\n",
       "      <td>288.298395</td>\n",
       "      <td>180.247002</td>\n",
       "      <td>51.314868</td>\n",
       "      <td>4.276201</td>\n",
       "      <td>0.8</td>\n",
       "      <td>-0.40</td>\n",
       "      <td>0.000000</td>\n",
       "      <td>0.0</td>\n",
       "      <td>0.000000</td>\n",
       "      <td>0.000000</td>\n",
       "      <td>3.922397e+06</td>\n",
       "      <td>3.149397e+06</td>\n",
       "    </tr>\n",
       "    <tr>\n",
       "      <th>2.5195</th>\n",
       "      <td>284.285126</td>\n",
       "      <td>180.247002</td>\n",
       "      <td>51.314868</td>\n",
       "      <td>4.276201</td>\n",
       "      <td>0.8</td>\n",
       "      <td>-0.70</td>\n",
       "      <td>0.000000</td>\n",
       "      <td>0.0</td>\n",
       "      <td>0.000000</td>\n",
       "      <td>0.000000</td>\n",
       "      <td>3.922397e+06</td>\n",
       "      <td>3.149397e+06</td>\n",
       "    </tr>\n",
       "  </tbody>\n",
       "</table>\n",
       "<p>1815 rows × 12 columns</p>\n",
       "</div>"
      ],
      "text/plain": [
       "               cog     heading        lat       lon  rot_realized  rudder  \\\n",
       "draft                                                                       \n",
       "1.0495  214.801031  359.451127  51.315602  4.276154           0.6   -1.30   \n",
       "1.0500  221.517330  359.451127  51.315602  4.276154           0.6   -1.30   \n",
       "1.0515  216.487755  359.445411  51.315602  4.276154           0.6   -1.30   \n",
       "1.0520  217.283622  359.445282  51.315602  4.276154           0.8   -1.30   \n",
       "1.0525  217.283622  359.445473  51.315602  4.276154           0.6   -1.30   \n",
       "...            ...         ...        ...       ...           ...     ...   \n",
       "2.5145  295.209049  180.261044  51.314868  4.276201           0.8   -0.55   \n",
       "2.5155  266.450042  180.246330  51.314868  4.276201           0.8   -0.40   \n",
       "2.5160  268.621637  180.246330  51.314868  4.276201           0.8   -0.40   \n",
       "2.5185  288.298395  180.247002  51.314868  4.276201           0.8   -0.40   \n",
       "2.5195  284.285126  180.247002  51.314868  4.276201           0.8   -0.70   \n",
       "\n",
       "           speed  trip         u         v             x             y  \n",
       "draft                                                                   \n",
       "1.0495  0.005144   1.0 -0.004196 -0.002976  3.922401e+06  3.149479e+06  \n",
       "1.0500  0.005144   1.0 -0.003819 -0.003447  3.922401e+06  3.149479e+06  \n",
       "1.0515  0.005144   1.0 -0.004104 -0.003098  3.922401e+06  3.149479e+06  \n",
       "1.0520  0.005144   1.0 -0.004063 -0.003156  3.922401e+06  3.149479e+06  \n",
       "1.0525  0.005144   1.0 -0.004063 -0.003156  3.922401e+06  3.149479e+06  \n",
       "...          ...   ...       ...       ...           ...           ...  \n",
       "2.5145  0.000000   0.0  0.000000  0.000000  3.922397e+06  3.149397e+06  \n",
       "2.5155  0.000000   0.0  0.000000  0.000000  3.922397e+06  3.149397e+06  \n",
       "2.5160  0.000000   0.0  0.000000  0.000000  3.922397e+06  3.149397e+06  \n",
       "2.5185  0.000000   0.0  0.000000  0.000000  3.922397e+06  3.149397e+06  \n",
       "2.5195  0.000000   0.0  0.000000  0.000000  3.922397e+06  3.149397e+06  \n",
       "\n",
       "[1815 rows x 12 columns]"
      ]
     },
     "execution_count": 109,
     "metadata": {},
     "output_type": "execute_result"
    }
   ],
   "source": [
    "# fill the missing values\n",
    "draft_mean = st.pivot_table(index = 'draft')\n",
    "draft_mean\n",
    "\n",
    "\n",
    "'''\n",
    "Linar interpoling instead of mean\n",
    "I should have done something like\n",
    "st_interpol = st.groupby('draft')\\\n",
    "                .resample('D')\\\n",
    "                .mean()\n",
    "st_interpol['draft'] = df_interpol['draft'].interpolate()\n",
    "st_interpol.head(4)\n",
    "\n",
    "'''"
   ]
  },
  {
   "cell_type": "code",
   "execution_count": 110,
   "metadata": {},
   "outputs": [
    {
     "data": {
      "text/plain": [
       "0         False\n",
       "1         False\n",
       "2         False\n",
       "3         False\n",
       "4         False\n",
       "          ...  \n",
       "479808     True\n",
       "479809     True\n",
       "479810     True\n",
       "479811     True\n",
       "479812     True\n",
       "Name: draft, Length: 479813, dtype: bool"
      ]
     },
     "execution_count": 110,
     "metadata": {},
     "output_type": "execute_result"
    }
   ],
   "source": [
    "miss_bool = st['draft'].isnull()\n",
    "miss_bool"
   ]
  },
  {
   "cell_type": "code",
   "execution_count": 111,
   "metadata": {},
   "outputs": [
    {
     "data": {
      "text/plain": [
       "\"for i, draft in enumerate(st['draft']):\\n    if miss_bool[i]:\\n        if draft in draft_mean:\\n            st['draft'][i] = draft_mean.loc[item]['draft']\\n        else:\\n            st['draft'][i] = np.mean(st['draft'])\\n            \""
      ]
     },
     "execution_count": 111,
     "metadata": {},
     "output_type": "execute_result"
    }
   ],
   "source": [
    "#First attempt of fillinf in the values , but I found an easer way below\n",
    "'''for i, draft in enumerate(st['draft']):\n",
    "    if miss_bool[i]:\n",
    "        if draft in draft_mean:\n",
    "            st['draft'][i] = draft_mean.loc[item]['draft']\n",
    "        else:\n",
    "            st['draft'][i] = np.mean(st['draft'])\n",
    "            '''\n",
    "            "
   ]
  },
  {
   "cell_type": "code",
   "execution_count": 112,
   "metadata": {},
   "outputs": [],
   "source": [
    "#Filling in null values in draft\n",
    "st['draft'] = st['draft'].fillna(st['draft'].mean())"
   ]
  },
  {
   "cell_type": "code",
   "execution_count": 113,
   "metadata": {},
   "outputs": [
    {
     "data": {
      "text/plain": [
       "0"
      ]
     },
     "execution_count": 113,
     "metadata": {},
     "output_type": "execute_result"
    }
   ],
   "source": [
    "#Checking how many null values are left\n",
    "st['draft'].isnull().sum()"
   ]
  },
  {
   "cell_type": "code",
   "execution_count": 114,
   "metadata": {},
   "outputs": [
    {
     "data": {
      "text/plain": [
       "<matplotlib.axes._subplots.AxesSubplot at 0x22f0c9e4370>"
      ]
     },
     "execution_count": 114,
     "metadata": {},
     "output_type": "execute_result"
    },
    {
     "data": {
      "image/png": "[encoded data removed]",
      "text/plain": [
       "<Figure size 432x288 with 1 Axes>"
      ]
     },
     "metadata": {
      "needs_background": "light"
     },
     "output_type": "display_data"
    }
   ],
   "source": [
    "#Some plots I tried to visualise the data\n",
    "sns.distplot(st['draft'])"
   ]
  },
  {
   "cell_type": "code",
   "execution_count": 115,
   "metadata": {
    "scrolled": true
   },
   "outputs": [
    {
     "data": {
      "text/plain": [
       "<matplotlib.axes._subplots.AxesSubplot at 0x22f18daca60>"
      ]
     },
     "execution_count": 115,
     "metadata": {},
     "output_type": "execute_result"
    },
    {
     "data": {
      "image/png": "[encoded data removed]",
      "text/plain": [
       "<Figure size 432x288 with 1 Axes>"
      ]
     },
     "metadata": {
      "needs_background": "light"
     },
     "output_type": "display_data"
    }
   ],
   "source": [
    "sns.distplot(st['rot_realized'])"
   ]
  },
  {
   "cell_type": "code",
   "execution_count": 116,
   "metadata": {},
   "outputs": [
    {
     "data": {
      "text/plain": [
       "<matplotlib.axes._subplots.AxesSubplot at 0x22f18a4c4f0>"
      ]
     },
     "execution_count": 116,
     "metadata": {},
     "output_type": "execute_result"
    },
    {
     "data": {
      "image/png": "[encoded data removed]",
      "text/plain": [
       "<Figure size 432x288 with 2 Axes>"
      ]
     },
     "metadata": {
      "needs_background": "light"
     },
     "output_type": "display_data"
    }
   ],
   "source": [
    "corr = st.corr()\n",
    "sns.heatmap(corr, annot=True, cmap='coolwarm')"
   ]
  },
  {
   "cell_type": "code",
   "execution_count": 117,
   "metadata": {},
   "outputs": [
    {
     "data": {
      "text/html": [
       "<div>\n",
       "<style scoped>\n",
       "    .dataframe tbody tr th:only-of-type {\n",
       "        vertical-align: middle;\n",
       "    }\n",
       "\n",
       "    .dataframe tbody tr th {\n",
       "        vertical-align: top;\n",
       "    }\n",
       "\n",
       "    .dataframe thead th {\n",
       "        text-align: right;\n",
       "    }\n",
       "</style>\n",
       "<table border=\"1\" class=\"dataframe\">\n",
       "  <thead>\n",
       "    <tr style=\"text-align: right;\">\n",
       "      <th></th>\n",
       "      <th>trip</th>\n",
       "      <th>dt</th>\n",
       "      <th>x</th>\n",
       "      <th>y</th>\n",
       "      <th>speed</th>\n",
       "      <th>u</th>\n",
       "      <th>v</th>\n",
       "      <th>cog</th>\n",
       "      <th>heading</th>\n",
       "      <th>lat</th>\n",
       "      <th>lon</th>\n",
       "      <th>draft</th>\n",
       "      <th>rudder</th>\n",
       "      <th>rot_realized</th>\n",
       "    </tr>\n",
       "  </thead>\n",
       "  <tbody>\n",
       "    <tr>\n",
       "      <th>0</th>\n",
       "      <td>0</td>\n",
       "      <td>2021-06-28T08:00:00.021959+00:00</td>\n",
       "      <td>3922397.017</td>\n",
       "      <td>3149397.297</td>\n",
       "      <td>0.005144</td>\n",
       "      <td>0.001227</td>\n",
       "      <td>0.004996</td>\n",
       "      <td>256.259075</td>\n",
       "      <td>180.054982</td>\n",
       "      <td>51.314869</td>\n",
       "      <td>4.276195</td>\n",
       "      <td>2.4845</td>\n",
       "      <td>-0.4</td>\n",
       "      <td>0.8</td>\n",
       "    </tr>\n",
       "    <tr>\n",
       "      <th>1</th>\n",
       "      <td>0</td>\n",
       "      <td>2021-06-28T08:00:00.372474+00:00</td>\n",
       "      <td>3922397.019</td>\n",
       "      <td>3149397.316</td>\n",
       "      <td>0.000000</td>\n",
       "      <td>0.000000</td>\n",
       "      <td>0.000000</td>\n",
       "      <td>260.783315</td>\n",
       "      <td>180.054982</td>\n",
       "      <td>51.314869</td>\n",
       "      <td>4.276195</td>\n",
       "      <td>2.4845</td>\n",
       "      <td>-0.7</td>\n",
       "      <td>0.8</td>\n",
       "    </tr>\n",
       "    <tr>\n",
       "      <th>2</th>\n",
       "      <td>0</td>\n",
       "      <td>2021-06-28T08:00:00.845801+00:00</td>\n",
       "      <td>3922397.017</td>\n",
       "      <td>3149397.297</td>\n",
       "      <td>0.005144</td>\n",
       "      <td>0.000709</td>\n",
       "      <td>0.005095</td>\n",
       "      <td>262.131445</td>\n",
       "      <td>180.055672</td>\n",
       "      <td>51.314869</td>\n",
       "      <td>4.276195</td>\n",
       "      <td>2.4845</td>\n",
       "      <td>-0.4</td>\n",
       "      <td>0.8</td>\n",
       "    </tr>\n",
       "    <tr>\n",
       "      <th>3</th>\n",
       "      <td>0</td>\n",
       "      <td>2021-06-28T08:00:01.350369+00:00</td>\n",
       "      <td>3922397.007</td>\n",
       "      <td>3149397.316</td>\n",
       "      <td>0.005144</td>\n",
       "      <td>-0.000206</td>\n",
       "      <td>0.005140</td>\n",
       "      <td>272.355535</td>\n",
       "      <td>180.055672</td>\n",
       "      <td>51.314869</td>\n",
       "      <td>4.276195</td>\n",
       "      <td>2.4845</td>\n",
       "      <td>-0.4</td>\n",
       "      <td>0.8</td>\n",
       "    </tr>\n",
       "    <tr>\n",
       "      <th>4</th>\n",
       "      <td>0</td>\n",
       "      <td>2021-06-28T08:00:01.462386+00:00</td>\n",
       "      <td>3922397.007</td>\n",
       "      <td>3149397.316</td>\n",
       "      <td>0.005144</td>\n",
       "      <td>-0.000207</td>\n",
       "      <td>0.005140</td>\n",
       "      <td>272.355535</td>\n",
       "      <td>180.049809</td>\n",
       "      <td>51.314869</td>\n",
       "      <td>4.276195</td>\n",
       "      <td>2.4850</td>\n",
       "      <td>-0.4</td>\n",
       "      <td>0.8</td>\n",
       "    </tr>\n",
       "  </tbody>\n",
       "</table>\n",
       "</div>"
      ],
      "text/plain": [
       "   trip                                dt            x            y     speed  \\\n",
       "0     0  2021-06-28T08:00:00.021959+00:00  3922397.017  3149397.297  0.005144   \n",
       "1     0  2021-06-28T08:00:00.372474+00:00  3922397.019  3149397.316  0.000000   \n",
       "2     0  2021-06-28T08:00:00.845801+00:00  3922397.017  3149397.297  0.005144   \n",
       "3     0  2021-06-28T08:00:01.350369+00:00  3922397.007  3149397.316  0.005144   \n",
       "4     0  2021-06-28T08:00:01.462386+00:00  3922397.007  3149397.316  0.005144   \n",
       "\n",
       "          u         v         cog     heading        lat       lon   draft  \\\n",
       "0  0.001227  0.004996  256.259075  180.054982  51.314869  4.276195  2.4845   \n",
       "1  0.000000  0.000000  260.783315  180.054982  51.314869  4.276195  2.4845   \n",
       "2  0.000709  0.005095  262.131445  180.055672  51.314869  4.276195  2.4845   \n",
       "3 -0.000206  0.005140  272.355535  180.055672  51.314869  4.276195  2.4845   \n",
       "4 -0.000207  0.005140  272.355535  180.049809  51.314869  4.276195  2.4850   \n",
       "\n",
       "   rudder  rot_realized  \n",
       "0    -0.4           0.8  \n",
       "1    -0.7           0.8  \n",
       "2    -0.4           0.8  \n",
       "3    -0.4           0.8  \n",
       "4    -0.4           0.8  "
      ]
     },
     "execution_count": 117,
     "metadata": {},
     "output_type": "execute_result"
    }
   ],
   "source": [
    "st.head()"
   ]
  },
  {
   "cell_type": "code",
   "execution_count": null,
   "metadata": {},
   "outputs": [],
   "source": [
    "#Test-Train Split up"
   ]
  },
  {
   "cell_type": "code",
   "execution_count": 118,
   "metadata": {},
   "outputs": [],
   "source": [
    "# X , y split up\n",
    "X = st[['x','y','speed','u','v','cog','heading','lat','lon','draft','rudder']]\n",
    "y = st[['rot_realized']]"
   ]
  },
  {
   "cell_type": "code",
   "execution_count": 119,
   "metadata": {},
   "outputs": [
    {
     "data": {
      "text/html": [
       "<div>\n",
       "<style scoped>\n",
       "    .dataframe tbody tr th:only-of-type {\n",
       "        vertical-align: middle;\n",
       "    }\n",
       "\n",
       "    .dataframe tbody tr th {\n",
       "        vertical-align: top;\n",
       "    }\n",
       "\n",
       "    .dataframe thead th {\n",
       "        text-align: right;\n",
       "    }\n",
       "</style>\n",
       "<table border=\"1\" class=\"dataframe\">\n",
       "  <thead>\n",
       "    <tr style=\"text-align: right;\">\n",
       "      <th></th>\n",
       "      <th>rot_realized</th>\n",
       "    </tr>\n",
       "  </thead>\n",
       "  <tbody>\n",
       "    <tr>\n",
       "      <th>0</th>\n",
       "      <td>0.8</td>\n",
       "    </tr>\n",
       "    <tr>\n",
       "      <th>1</th>\n",
       "      <td>0.8</td>\n",
       "    </tr>\n",
       "    <tr>\n",
       "      <th>2</th>\n",
       "      <td>0.8</td>\n",
       "    </tr>\n",
       "    <tr>\n",
       "      <th>3</th>\n",
       "      <td>0.8</td>\n",
       "    </tr>\n",
       "    <tr>\n",
       "      <th>4</th>\n",
       "      <td>0.8</td>\n",
       "    </tr>\n",
       "    <tr>\n",
       "      <th>...</th>\n",
       "      <td>...</td>\n",
       "    </tr>\n",
       "    <tr>\n",
       "      <th>479808</th>\n",
       "      <td>0.8</td>\n",
       "    </tr>\n",
       "    <tr>\n",
       "      <th>479809</th>\n",
       "      <td>0.8</td>\n",
       "    </tr>\n",
       "    <tr>\n",
       "      <th>479810</th>\n",
       "      <td>0.8</td>\n",
       "    </tr>\n",
       "    <tr>\n",
       "      <th>479811</th>\n",
       "      <td>0.8</td>\n",
       "    </tr>\n",
       "    <tr>\n",
       "      <th>479812</th>\n",
       "      <td>0.8</td>\n",
       "    </tr>\n",
       "  </tbody>\n",
       "</table>\n",
       "<p>479813 rows × 1 columns</p>\n",
       "</div>"
      ],
      "text/plain": [
       "        rot_realized\n",
       "0                0.8\n",
       "1                0.8\n",
       "2                0.8\n",
       "3                0.8\n",
       "4                0.8\n",
       "...              ...\n",
       "479808           0.8\n",
       "479809           0.8\n",
       "479810           0.8\n",
       "479811           0.8\n",
       "479812           0.8\n",
       "\n",
       "[479813 rows x 1 columns]"
      ]
     },
     "execution_count": 119,
     "metadata": {},
     "output_type": "execute_result"
    }
   ],
   "source": [
    "y"
   ]
  },
  {
   "cell_type": "code",
   "execution_count": 120,
   "metadata": {},
   "outputs": [],
   "source": [
    "from sklearn.linear_model import LinearRegression, Ridge, Lasso\n",
    "from sklearn.metrics import mean_squared_error\n",
    "\n",
    "# from sklearn.model_selection import train_test_split # Used this first\n",
    "#model = LinearRegression(normalize=True)\n",
    "#train(model, X, y)"
   ]
  },
  {
   "cell_type": "code",
   "execution_count": 121,
   "metadata": {},
   "outputs": [
    {
     "data": {
      "text/plain": [
       "TimeSeriesSplit(max_train_size=None, n_splits=2)"
      ]
     },
     "execution_count": 121,
     "metadata": {},
     "output_type": "execute_result"
    }
   ],
   "source": [
    "#Train test split \n",
    "from sklearn.model_selection import TimeSeriesSplit\n",
    "tscv = TimeSeriesSplit()\n",
    "TimeSeriesSplit(n_splits=2)\n"
   ]
  },
  {
   "cell_type": "code",
   "execution_count": 122,
   "metadata": {},
   "outputs": [
    {
     "data": {
      "text/plain": [
       "8     115816\n",
       "13    109818\n",
       "4      52314\n",
       "7      50118\n",
       "12     27202\n",
       "11     22808\n",
       "10     15327\n",
       "9      15231\n",
       "14     14561\n",
       "15     13768\n",
       "0       8009\n",
       "3       7850\n",
       "1       7602\n",
       "2       7599\n",
       "5       6956\n",
       "6       4834\n",
       "Name: trip, dtype: int64"
      ]
     },
     "execution_count": 122,
     "metadata": {},
     "output_type": "execute_result"
    }
   ],
   "source": [
    "st['trip'].value_counts()"
   ]
  },
  {
   "cell_type": "code",
   "execution_count": 123,
   "metadata": {},
   "outputs": [
    {
     "data": {
      "text/plain": [
       "479813"
      ]
     },
     "execution_count": 123,
     "metadata": {},
     "output_type": "execute_result"
    }
   ],
   "source": [
    "st['trip'].value_counts().sum()"
   ]
  },
  {
   "cell_type": "code",
   "execution_count": 124,
   "metadata": {},
   "outputs": [],
   "source": [
    "#Manual split up of test and train data based on trip id. Trip 1-13 were train data while the last two were train data\n",
    "test_size=st['trip'].value_counts()[14]+st['trip'].value_counts()[15]"
   ]
  },
  {
   "cell_type": "code",
   "execution_count": 125,
   "metadata": {},
   "outputs": [],
   "source": [
    "#Assighning and declaring the testizes\n",
    "st_train = st[:-test_size]\n",
    "st_test = st[-test_size:]"
   ]
  },
  {
   "cell_type": "code",
   "execution_count": 126,
   "metadata": {},
   "outputs": [
    {
     "data": {
      "text/html": [
       "<div>\n",
       "<style scoped>\n",
       "    .dataframe tbody tr th:only-of-type {\n",
       "        vertical-align: middle;\n",
       "    }\n",
       "\n",
       "    .dataframe tbody tr th {\n",
       "        vertical-align: top;\n",
       "    }\n",
       "\n",
       "    .dataframe thead th {\n",
       "        text-align: right;\n",
       "    }\n",
       "</style>\n",
       "<table border=\"1\" class=\"dataframe\">\n",
       "  <thead>\n",
       "    <tr style=\"text-align: right;\">\n",
       "      <th></th>\n",
       "      <th>trip</th>\n",
       "      <th>dt</th>\n",
       "      <th>x</th>\n",
       "      <th>y</th>\n",
       "      <th>speed</th>\n",
       "      <th>u</th>\n",
       "      <th>v</th>\n",
       "      <th>cog</th>\n",
       "      <th>heading</th>\n",
       "      <th>lat</th>\n",
       "      <th>lon</th>\n",
       "      <th>draft</th>\n",
       "      <th>rudder</th>\n",
       "      <th>rot_realized</th>\n",
       "    </tr>\n",
       "  </thead>\n",
       "  <tbody>\n",
       "    <tr>\n",
       "      <th>451479</th>\n",
       "      <td>13</td>\n",
       "      <td>2021-07-03T15:59:57.951485+00:00</td>\n",
       "      <td>3920563.570</td>\n",
       "      <td>3163376.016</td>\n",
       "      <td>0.0</td>\n",
       "      <td>0.0</td>\n",
       "      <td>0.0</td>\n",
       "      <td>132.065700</td>\n",
       "      <td>177.279089</td>\n",
       "      <td>51.438771</td>\n",
       "      <td>4.234195</td>\n",
       "      <td>1.812151</td>\n",
       "      <td>3.2</td>\n",
       "      <td>2.9</td>\n",
       "    </tr>\n",
       "    <tr>\n",
       "      <th>451480</th>\n",
       "      <td>13</td>\n",
       "      <td>2021-07-03T15:59:58.615353+00:00</td>\n",
       "      <td>3920563.570</td>\n",
       "      <td>3163376.016</td>\n",
       "      <td>0.0</td>\n",
       "      <td>0.0</td>\n",
       "      <td>0.0</td>\n",
       "      <td>123.033776</td>\n",
       "      <td>177.279089</td>\n",
       "      <td>51.438771</td>\n",
       "      <td>4.234195</td>\n",
       "      <td>1.812151</td>\n",
       "      <td>2.9</td>\n",
       "      <td>2.9</td>\n",
       "    </tr>\n",
       "    <tr>\n",
       "      <th>451481</th>\n",
       "      <td>13</td>\n",
       "      <td>2021-07-03T15:59:58.924922+00:00</td>\n",
       "      <td>3920563.570</td>\n",
       "      <td>3163376.016</td>\n",
       "      <td>0.0</td>\n",
       "      <td>0.0</td>\n",
       "      <td>0.0</td>\n",
       "      <td>121.405639</td>\n",
       "      <td>177.345853</td>\n",
       "      <td>51.438771</td>\n",
       "      <td>4.234195</td>\n",
       "      <td>1.812151</td>\n",
       "      <td>3.2</td>\n",
       "      <td>2.9</td>\n",
       "    </tr>\n",
       "    <tr>\n",
       "      <th>451482</th>\n",
       "      <td>13</td>\n",
       "      <td>2021-07-03T15:59:59.350487+00:00</td>\n",
       "      <td>3920563.570</td>\n",
       "      <td>3163376.016</td>\n",
       "      <td>0.0</td>\n",
       "      <td>0.0</td>\n",
       "      <td>0.0</td>\n",
       "      <td>110.261007</td>\n",
       "      <td>177.345853</td>\n",
       "      <td>51.438771</td>\n",
       "      <td>4.234195</td>\n",
       "      <td>1.812151</td>\n",
       "      <td>2.9</td>\n",
       "      <td>3.1</td>\n",
       "    </tr>\n",
       "    <tr>\n",
       "      <th>451483</th>\n",
       "      <td>13</td>\n",
       "      <td>2021-07-03T15:59:59.951730+00:00</td>\n",
       "      <td>3920563.558</td>\n",
       "      <td>3163376.017</td>\n",
       "      <td>0.0</td>\n",
       "      <td>0.0</td>\n",
       "      <td>0.0</td>\n",
       "      <td>100.157444</td>\n",
       "      <td>177.345853</td>\n",
       "      <td>51.438771</td>\n",
       "      <td>4.234195</td>\n",
       "      <td>1.812151</td>\n",
       "      <td>3.2</td>\n",
       "      <td>2.9</td>\n",
       "    </tr>\n",
       "  </tbody>\n",
       "</table>\n",
       "</div>"
      ],
      "text/plain": [
       "        trip                                dt            x            y  \\\n",
       "451479    13  2021-07-03T15:59:57.951485+00:00  3920563.570  3163376.016   \n",
       "451480    13  2021-07-03T15:59:58.615353+00:00  3920563.570  3163376.016   \n",
       "451481    13  2021-07-03T15:59:58.924922+00:00  3920563.570  3163376.016   \n",
       "451482    13  2021-07-03T15:59:59.350487+00:00  3920563.570  3163376.016   \n",
       "451483    13  2021-07-03T15:59:59.951730+00:00  3920563.558  3163376.017   \n",
       "\n",
       "        speed    u    v         cog     heading        lat       lon  \\\n",
       "451479    0.0  0.0  0.0  132.065700  177.279089  51.438771  4.234195   \n",
       "451480    0.0  0.0  0.0  123.033776  177.279089  51.438771  4.234195   \n",
       "451481    0.0  0.0  0.0  121.405639  177.345853  51.438771  4.234195   \n",
       "451482    0.0  0.0  0.0  110.261007  177.345853  51.438771  4.234195   \n",
       "451483    0.0  0.0  0.0  100.157444  177.345853  51.438771  4.234195   \n",
       "\n",
       "           draft  rudder  rot_realized  \n",
       "451479  1.812151     3.2           2.9  \n",
       "451480  1.812151     2.9           2.9  \n",
       "451481  1.812151     3.2           2.9  \n",
       "451482  1.812151     2.9           3.1  \n",
       "451483  1.812151     3.2           2.9  "
      ]
     },
     "execution_count": 126,
     "metadata": {},
     "output_type": "execute_result"
    }
   ],
   "source": [
    "st_train.tail()"
   ]
  },
  {
   "cell_type": "code",
   "execution_count": 127,
   "metadata": {},
   "outputs": [
    {
     "data": {
      "text/html": [
       "<div>\n",
       "<style scoped>\n",
       "    .dataframe tbody tr th:only-of-type {\n",
       "        vertical-align: middle;\n",
       "    }\n",
       "\n",
       "    .dataframe tbody tr th {\n",
       "        vertical-align: top;\n",
       "    }\n",
       "\n",
       "    .dataframe thead th {\n",
       "        text-align: right;\n",
       "    }\n",
       "</style>\n",
       "<table border=\"1\" class=\"dataframe\">\n",
       "  <thead>\n",
       "    <tr style=\"text-align: right;\">\n",
       "      <th></th>\n",
       "      <th>trip</th>\n",
       "      <th>dt</th>\n",
       "      <th>x</th>\n",
       "      <th>y</th>\n",
       "      <th>speed</th>\n",
       "      <th>u</th>\n",
       "      <th>v</th>\n",
       "      <th>cog</th>\n",
       "      <th>heading</th>\n",
       "      <th>lat</th>\n",
       "      <th>lon</th>\n",
       "      <th>draft</th>\n",
       "      <th>rudder</th>\n",
       "      <th>rot_realized</th>\n",
       "    </tr>\n",
       "  </thead>\n",
       "  <tbody>\n",
       "    <tr>\n",
       "      <th>451484</th>\n",
       "      <td>14</td>\n",
       "      <td>2021-07-04T16:00:00.037575+00:00</td>\n",
       "      <td>3920563.738</td>\n",
       "      <td>3163362.399</td>\n",
       "      <td>0.051444</td>\n",
       "      <td>0.050473</td>\n",
       "      <td>-0.009949</td>\n",
       "      <td>166.416029</td>\n",
       "      <td>177.567353</td>\n",
       "      <td>51.438649</td>\n",
       "      <td>4.234213</td>\n",
       "      <td>1.812151</td>\n",
       "      <td>2.9</td>\n",
       "      <td>3.3</td>\n",
       "    </tr>\n",
       "    <tr>\n",
       "      <th>451485</th>\n",
       "      <td>14</td>\n",
       "      <td>2021-07-04T16:00:00.349613+00:00</td>\n",
       "      <td>3920563.747</td>\n",
       "      <td>3163362.362</td>\n",
       "      <td>0.051444</td>\n",
       "      <td>0.050650</td>\n",
       "      <td>-0.009004</td>\n",
       "      <td>167.487329</td>\n",
       "      <td>177.567353</td>\n",
       "      <td>51.438649</td>\n",
       "      <td>4.234213</td>\n",
       "      <td>1.812151</td>\n",
       "      <td>3.2</td>\n",
       "      <td>3.3</td>\n",
       "    </tr>\n",
       "    <tr>\n",
       "      <th>451486</th>\n",
       "      <td>14</td>\n",
       "      <td>2021-07-04T16:00:00.846008+00:00</td>\n",
       "      <td>3920563.745</td>\n",
       "      <td>3163362.343</td>\n",
       "      <td>0.051444</td>\n",
       "      <td>0.050590</td>\n",
       "      <td>-0.009338</td>\n",
       "      <td>167.116874</td>\n",
       "      <td>177.575190</td>\n",
       "      <td>51.438649</td>\n",
       "      <td>4.234213</td>\n",
       "      <td>1.812151</td>\n",
       "      <td>3.2</td>\n",
       "      <td>3.3</td>\n",
       "    </tr>\n",
       "    <tr>\n",
       "      <th>451487</th>\n",
       "      <td>14</td>\n",
       "      <td>2021-07-04T16:00:01.347429+00:00</td>\n",
       "      <td>3920563.743</td>\n",
       "      <td>3163362.306</td>\n",
       "      <td>0.051444</td>\n",
       "      <td>0.051087</td>\n",
       "      <td>-0.006057</td>\n",
       "      <td>170.821657</td>\n",
       "      <td>177.582739</td>\n",
       "      <td>51.438648</td>\n",
       "      <td>4.234213</td>\n",
       "      <td>1.812151</td>\n",
       "      <td>3.2</td>\n",
       "      <td>3.3</td>\n",
       "    </tr>\n",
       "    <tr>\n",
       "      <th>451488</th>\n",
       "      <td>14</td>\n",
       "      <td>2021-07-04T16:00:01.858551+00:00</td>\n",
       "      <td>3920563.741</td>\n",
       "      <td>3163362.288</td>\n",
       "      <td>0.056589</td>\n",
       "      <td>0.056427</td>\n",
       "      <td>-0.004280</td>\n",
       "      <td>173.245044</td>\n",
       "      <td>177.582739</td>\n",
       "      <td>51.438648</td>\n",
       "      <td>4.234213</td>\n",
       "      <td>1.812151</td>\n",
       "      <td>3.2</td>\n",
       "      <td>3.5</td>\n",
       "    </tr>\n",
       "  </tbody>\n",
       "</table>\n",
       "</div>"
      ],
      "text/plain": [
       "        trip                                dt            x            y  \\\n",
       "451484    14  2021-07-04T16:00:00.037575+00:00  3920563.738  3163362.399   \n",
       "451485    14  2021-07-04T16:00:00.349613+00:00  3920563.747  3163362.362   \n",
       "451486    14  2021-07-04T16:00:00.846008+00:00  3920563.745  3163362.343   \n",
       "451487    14  2021-07-04T16:00:01.347429+00:00  3920563.743  3163362.306   \n",
       "451488    14  2021-07-04T16:00:01.858551+00:00  3920563.741  3163362.288   \n",
       "\n",
       "           speed         u         v         cog     heading        lat  \\\n",
       "451484  0.051444  0.050473 -0.009949  166.416029  177.567353  51.438649   \n",
       "451485  0.051444  0.050650 -0.009004  167.487329  177.567353  51.438649   \n",
       "451486  0.051444  0.050590 -0.009338  167.116874  177.575190  51.438649   \n",
       "451487  0.051444  0.051087 -0.006057  170.821657  177.582739  51.438648   \n",
       "451488  0.056589  0.056427 -0.004280  173.245044  177.582739  51.438648   \n",
       "\n",
       "             lon     draft  rudder  rot_realized  \n",
       "451484  4.234213  1.812151     2.9           3.3  \n",
       "451485  4.234213  1.812151     3.2           3.3  \n",
       "451486  4.234213  1.812151     3.2           3.3  \n",
       "451487  4.234213  1.812151     3.2           3.3  \n",
       "451488  4.234213  1.812151     3.2           3.5  "
      ]
     },
     "execution_count": 127,
     "metadata": {},
     "output_type": "execute_result"
    }
   ],
   "source": [
    "st_test.head()"
   ]
  },
  {
   "cell_type": "code",
   "execution_count": 12,
   "metadata": {},
   "outputs": [
    {
     "ename": "NameError",
     "evalue": "name 'st_train' is not defined",
     "output_type": "error",
     "traceback": [
      "\u001b[1;31m---------------------------------------------------------------------------\u001b[0m",
      "\u001b[1;31mNameError\u001b[0m                                 Traceback (most recent call last)",
      "\u001b[1;32m<ipython-input-12-756306f15b5d>\u001b[0m in \u001b[0;36m<module>\u001b[1;34m\u001b[0m\n\u001b[0;32m      1\u001b[0m \u001b[1;31m#Training data\u001b[0m\u001b[1;33m\u001b[0m\u001b[1;33m\u001b[0m\u001b[1;33m\u001b[0m\u001b[0m\n\u001b[1;32m----> 2\u001b[1;33m \u001b[0mX_train\u001b[0m \u001b[1;33m=\u001b[0m \u001b[0mst_train\u001b[0m\u001b[1;33m[\u001b[0m\u001b[1;33m[\u001b[0m\u001b[1;34m'x'\u001b[0m\u001b[1;33m,\u001b[0m\u001b[1;34m'y'\u001b[0m\u001b[1;33m,\u001b[0m\u001b[1;34m'speed'\u001b[0m\u001b[1;33m,\u001b[0m\u001b[1;34m'u'\u001b[0m\u001b[1;33m,\u001b[0m\u001b[1;34m'v'\u001b[0m\u001b[1;33m,\u001b[0m\u001b[1;34m'cog'\u001b[0m\u001b[1;33m,\u001b[0m\u001b[1;34m'heading'\u001b[0m\u001b[1;33m,\u001b[0m\u001b[1;34m'lat'\u001b[0m\u001b[1;33m,\u001b[0m\u001b[1;34m'lon'\u001b[0m\u001b[1;33m,\u001b[0m\u001b[1;34m'draft'\u001b[0m\u001b[1;33m,\u001b[0m\u001b[1;34m'rudder'\u001b[0m\u001b[1;33m]\u001b[0m\u001b[1;33m]\u001b[0m\u001b[1;33m\u001b[0m\u001b[1;33m\u001b[0m\u001b[0m\n\u001b[0m\u001b[0;32m      3\u001b[0m \u001b[0my_train\u001b[0m \u001b[1;33m=\u001b[0m \u001b[0mst_train\u001b[0m\u001b[1;33m[\u001b[0m\u001b[1;33m[\u001b[0m\u001b[1;34m'rot_realized'\u001b[0m\u001b[1;33m]\u001b[0m\u001b[1;33m]\u001b[0m\u001b[1;33m\u001b[0m\u001b[1;33m\u001b[0m\u001b[0m\n\u001b[0;32m      4\u001b[0m \u001b[1;33m\u001b[0m\u001b[0m\n\u001b[0;32m      5\u001b[0m \u001b[1;31m#Testing data\u001b[0m\u001b[1;33m\u001b[0m\u001b[1;33m\u001b[0m\u001b[1;33m\u001b[0m\u001b[0m\n",
      "\u001b[1;31mNameError\u001b[0m: name 'st_train' is not defined"
     ]
    }
   ],
   "source": [
    "#Training data\n",
    "X_train = st_train[['x','y','speed','u','v','cog','heading','lat','lon','draft','rudder']]\n",
    "y_train = st_train[['rot_realized']]\n",
    "\n",
    "#Testing data\n",
    "X_test = st_test[['x','y','speed','u','v','cog','heading','lat','lon','draft','rudder']]\n",
    "y_test = st_test[['rot_realized']]"
   ]
  },
  {
   "cell_type": "code",
   "execution_count": 11,
   "metadata": {},
   "outputs": [],
   "source": [
    "from sklearn.model_selection import cross_val_score\n",
    "from sklearn.metrics import mean_squared_error\n",
    "from sklearn.linear_model import LinearRegression, Ridge, Lasso\n",
    "from sklearn.ensemble import GradientBoostingRegressor\n",
    "from sklearn.ensemble import RandomForestRegressor\n",
    "from sklearn.metrics import r2_score\n",
    "import math"
   ]
  },
  {
   "cell_type": "code",
   "execution_count": null,
   "metadata": {},
   "outputs": [],
   "source": [
    "#Linear Regression Model"
   ]
  },
  {
   "cell_type": "code",
   "execution_count": 14,
   "metadata": {},
   "outputs": [],
   "source": [
    "model = LinearRegression(normalize=True)\n",
    "def train(model, X, y):\n",
    "    # train the model\n",
    "    model.fit(X, y)\n",
    "    \n",
    "    # predict the training set\n",
    "    predict1 = model.predict(X)"
   ]
  },
  {
   "cell_type": "code",
   "execution_count": null,
   "metadata": {},
   "outputs": [],
   "source": []
  },
  {
   "cell_type": "code",
   "execution_count": 15,
   "metadata": {},
   "outputs": [
    {
     "ename": "NameError",
     "evalue": "name 'X_train' is not defined",
     "output_type": "error",
     "traceback": [
      "\u001b[1;31m---------------------------------------------------------------------------\u001b[0m",
      "\u001b[1;31mNameError\u001b[0m                                 Traceback (most recent call last)",
      "\u001b[1;32m<ipython-input-15-b7a8c64777c1>\u001b[0m in \u001b[0;36m<module>\u001b[1;34m\u001b[0m\n\u001b[1;32m----> 1\u001b[1;33m \u001b[0mmodel\u001b[0m\u001b[1;33m.\u001b[0m\u001b[0mfit\u001b[0m\u001b[1;33m(\u001b[0m\u001b[0mX_train\u001b[0m\u001b[1;33m,\u001b[0m\u001b[0my_train\u001b[0m\u001b[1;33m)\u001b[0m\u001b[1;33m\u001b[0m\u001b[1;33m\u001b[0m\u001b[0m\n\u001b[0m",
      "\u001b[1;31mNameError\u001b[0m: name 'X_train' is not defined"
     ]
    }
   ],
   "source": [
    "model.fit(X_train,y_train)"
   ]
  },
  {
   "cell_type": "code",
   "execution_count": 158,
   "metadata": {},
   "outputs": [],
   "source": [
    "predict1 =model.predict(X_test)"
   ]
  },
  {
   "cell_type": "code",
   "execution_count": 159,
   "metadata": {},
   "outputs": [],
   "source": [
    "cv_score = cross_val_score(model, X, y, scoring='neg_mean_squared_error', cv=5)\n",
    "cv_score = np.abs(np.mean(cv_score))"
   ]
  },
  {
   "cell_type": "code",
   "execution_count": null,
   "metadata": {},
   "outputs": [],
   "source": []
  },
  {
   "cell_type": "code",
   "execution_count": 160,
   "metadata": {},
   "outputs": [
    {
     "data": {
      "text/plain": [
       "array([[ 0.73710522],\n",
       "       [ 0.74201854],\n",
       "       [ 0.74292274],\n",
       "       ...,\n",
       "       [-1.55038223],\n",
       "       [-1.55824078],\n",
       "       [-1.55020769]])"
      ]
     },
     "execution_count": 160,
     "metadata": {},
     "output_type": "execute_result"
    }
   ],
   "source": [
    "predict1"
   ]
  },
  {
   "cell_type": "code",
   "execution_count": 161,
   "metadata": {},
   "outputs": [],
   "source": [
    "st_test[\"Predicted rot_realised\"] =predict1"
   ]
  },
  {
   "cell_type": "code",
   "execution_count": 162,
   "metadata": {},
   "outputs": [
    {
     "data": {
      "text/html": [
       "<div>\n",
       "<style scoped>\n",
       "    .dataframe tbody tr th:only-of-type {\n",
       "        vertical-align: middle;\n",
       "    }\n",
       "\n",
       "    .dataframe tbody tr th {\n",
       "        vertical-align: top;\n",
       "    }\n",
       "\n",
       "    .dataframe thead th {\n",
       "        text-align: right;\n",
       "    }\n",
       "</style>\n",
       "<table border=\"1\" class=\"dataframe\">\n",
       "  <thead>\n",
       "    <tr style=\"text-align: right;\">\n",
       "      <th></th>\n",
       "      <th>trip</th>\n",
       "      <th>dt</th>\n",
       "      <th>x</th>\n",
       "      <th>y</th>\n",
       "      <th>speed</th>\n",
       "      <th>u</th>\n",
       "      <th>v</th>\n",
       "      <th>cog</th>\n",
       "      <th>heading</th>\n",
       "      <th>lat</th>\n",
       "      <th>lon</th>\n",
       "      <th>draft</th>\n",
       "      <th>rudder</th>\n",
       "      <th>rot_realized</th>\n",
       "      <th>Predicted rot_realised</th>\n",
       "    </tr>\n",
       "  </thead>\n",
       "  <tbody>\n",
       "    <tr>\n",
       "      <th>451484</th>\n",
       "      <td>14</td>\n",
       "      <td>2021-07-04T16:00:00.037575+00:00</td>\n",
       "      <td>3920563.738</td>\n",
       "      <td>3163362.399</td>\n",
       "      <td>0.051444</td>\n",
       "      <td>0.050473</td>\n",
       "      <td>-0.009949</td>\n",
       "      <td>166.416029</td>\n",
       "      <td>177.567353</td>\n",
       "      <td>51.438649</td>\n",
       "      <td>4.234213</td>\n",
       "      <td>1.812151</td>\n",
       "      <td>2.9</td>\n",
       "      <td>3.3</td>\n",
       "      <td>0.737105</td>\n",
       "    </tr>\n",
       "    <tr>\n",
       "      <th>451485</th>\n",
       "      <td>14</td>\n",
       "      <td>2021-07-04T16:00:00.349613+00:00</td>\n",
       "      <td>3920563.747</td>\n",
       "      <td>3163362.362</td>\n",
       "      <td>0.051444</td>\n",
       "      <td>0.050650</td>\n",
       "      <td>-0.009004</td>\n",
       "      <td>167.487329</td>\n",
       "      <td>177.567353</td>\n",
       "      <td>51.438649</td>\n",
       "      <td>4.234213</td>\n",
       "      <td>1.812151</td>\n",
       "      <td>3.2</td>\n",
       "      <td>3.3</td>\n",
       "      <td>0.742019</td>\n",
       "    </tr>\n",
       "    <tr>\n",
       "      <th>451486</th>\n",
       "      <td>14</td>\n",
       "      <td>2021-07-04T16:00:00.846008+00:00</td>\n",
       "      <td>3920563.745</td>\n",
       "      <td>3163362.343</td>\n",
       "      <td>0.051444</td>\n",
       "      <td>0.050590</td>\n",
       "      <td>-0.009338</td>\n",
       "      <td>167.116874</td>\n",
       "      <td>177.575190</td>\n",
       "      <td>51.438649</td>\n",
       "      <td>4.234213</td>\n",
       "      <td>1.812151</td>\n",
       "      <td>3.2</td>\n",
       "      <td>3.3</td>\n",
       "      <td>0.742923</td>\n",
       "    </tr>\n",
       "    <tr>\n",
       "      <th>451487</th>\n",
       "      <td>14</td>\n",
       "      <td>2021-07-04T16:00:01.347429+00:00</td>\n",
       "      <td>3920563.743</td>\n",
       "      <td>3163362.306</td>\n",
       "      <td>0.051444</td>\n",
       "      <td>0.051087</td>\n",
       "      <td>-0.006057</td>\n",
       "      <td>170.821657</td>\n",
       "      <td>177.582739</td>\n",
       "      <td>51.438648</td>\n",
       "      <td>4.234213</td>\n",
       "      <td>1.812151</td>\n",
       "      <td>3.2</td>\n",
       "      <td>3.3</td>\n",
       "      <td>0.734303</td>\n",
       "    </tr>\n",
       "    <tr>\n",
       "      <th>451488</th>\n",
       "      <td>14</td>\n",
       "      <td>2021-07-04T16:00:01.858551+00:00</td>\n",
       "      <td>3920563.741</td>\n",
       "      <td>3163362.288</td>\n",
       "      <td>0.056589</td>\n",
       "      <td>0.056427</td>\n",
       "      <td>-0.004280</td>\n",
       "      <td>173.245044</td>\n",
       "      <td>177.582739</td>\n",
       "      <td>51.438648</td>\n",
       "      <td>4.234213</td>\n",
       "      <td>1.812151</td>\n",
       "      <td>3.2</td>\n",
       "      <td>3.5</td>\n",
       "      <td>0.728296</td>\n",
       "    </tr>\n",
       "  </tbody>\n",
       "</table>\n",
       "</div>"
      ],
      "text/plain": [
       "        trip                                dt            x            y  \\\n",
       "451484    14  2021-07-04T16:00:00.037575+00:00  3920563.738  3163362.399   \n",
       "451485    14  2021-07-04T16:00:00.349613+00:00  3920563.747  3163362.362   \n",
       "451486    14  2021-07-04T16:00:00.846008+00:00  3920563.745  3163362.343   \n",
       "451487    14  2021-07-04T16:00:01.347429+00:00  3920563.743  3163362.306   \n",
       "451488    14  2021-07-04T16:00:01.858551+00:00  3920563.741  3163362.288   \n",
       "\n",
       "           speed         u         v         cog     heading        lat  \\\n",
       "451484  0.051444  0.050473 -0.009949  166.416029  177.567353  51.438649   \n",
       "451485  0.051444  0.050650 -0.009004  167.487329  177.567353  51.438649   \n",
       "451486  0.051444  0.050590 -0.009338  167.116874  177.575190  51.438649   \n",
       "451487  0.051444  0.051087 -0.006057  170.821657  177.582739  51.438648   \n",
       "451488  0.056589  0.056427 -0.004280  173.245044  177.582739  51.438648   \n",
       "\n",
       "             lon     draft  rudder  rot_realized  Predicted rot_realised  \n",
       "451484  4.234213  1.812151     2.9           3.3                0.737105  \n",
       "451485  4.234213  1.812151     3.2           3.3                0.742019  \n",
       "451486  4.234213  1.812151     3.2           3.3                0.742923  \n",
       "451487  4.234213  1.812151     3.2           3.3                0.734303  \n",
       "451488  4.234213  1.812151     3.2           3.5                0.728296  "
      ]
     },
     "execution_count": 162,
     "metadata": {},
     "output_type": "execute_result"
    }
   ],
   "source": [
    "#Preicted rot-realised via linear regression\n",
    "st_test.head()"
   ]
  },
  {
   "cell_type": "code",
   "execution_count": 163,
   "metadata": {},
   "outputs": [],
   "source": [
    "#Calculating the r2 score of the predicted data\n",
    "scoreLr = r2_score(y_test,predict1)"
   ]
  },
  {
   "cell_type": "code",
   "execution_count": 164,
   "metadata": {},
   "outputs": [
    {
     "name": "stdout",
     "output_type": "stream",
     "text": [
      "Model Report\n",
      "MSE: 5.546041067518437\n",
      "Root MSE: 2.3550034113602547\n",
      "CV Score: 38.24542927147867\n",
      "R2 Score:  -0.7878466063553871\n"
     ]
    }
   ],
   "source": [
    "print(\"Model Report\")\n",
    "print(\"MSE:\",mean_squared_error(y_test,predict1))\n",
    "print(\"Root MSE:\",sqrt(mean_squared_error(y_test,predict1)))\n",
    "print(\"CV Score:\", cv_score)\n",
    "print(\"R2 Score: \", scoreLr)"
   ]
  },
  {
   "cell_type": "code",
   "execution_count": 165,
   "metadata": {},
   "outputs": [
    {
     "data": {
      "image/png": "[encoded data removed]",
      "text/plain": [
       "<Figure size 288x216 with 1 Axes>"
      ]
     },
     "metadata": {
      "needs_background": "light"
     },
     "output_type": "display_data"
    }
   ],
   "source": [
    "#Linear regression Graph\n",
    "expected=y_test\n",
    "plt.figure(figsize=(4, 3))\n",
    "plt.scatter(expected, predict1)\n",
    "plt.plot([0, 50], [0, 50], '--k')\n",
    "plt.axis('tight')\n",
    "plt.title(\"Linear Regression model Prediction\")\n",
    "plt.xlabel('Expected rot_realised')\n",
    "plt.ylabel('Predicted rot_realised')\n",
    "plt.tight_layout()"
   ]
  },
  {
   "cell_type": "code",
   "execution_count": null,
   "metadata": {},
   "outputs": [],
   "source": [
    "#GradientBoostingRegressor"
   ]
  },
  {
   "cell_type": "code",
   "execution_count": 166,
   "metadata": {},
   "outputs": [],
   "source": [
    "model2 = GradientBoostingRegressor()\n",
    "def train(model2, X, y):\n",
    "    # train the model\n",
    "    model2.fit(X, y)\n",
    "    \n",
    "    # predict the training set\n",
    "    predict2 = model2.predict(X)\n"
   ]
  },
  {
   "cell_type": "code",
   "execution_count": 167,
   "metadata": {},
   "outputs": [
    {
     "data": {
      "text/plain": [
       "GradientBoostingRegressor()"
      ]
     },
     "execution_count": 167,
     "metadata": {},
     "output_type": "execute_result"
    }
   ],
   "source": [
    "model2.fit(X_train,y_train)"
   ]
  },
  {
   "cell_type": "code",
   "execution_count": 168,
   "metadata": {},
   "outputs": [],
   "source": [
    "predict2 =model2.predict(X_test)"
   ]
  },
  {
   "cell_type": "code",
   "execution_count": 169,
   "metadata": {},
   "outputs": [],
   "source": [
    "cv_score = cross_val_score(model2, X, y, scoring='neg_mean_squared_error', cv=5)\n",
    "cv_score = np.abs(np.mean(cv_score))"
   ]
  },
  {
   "cell_type": "code",
   "execution_count": 170,
   "metadata": {},
   "outputs": [
    {
     "data": {
      "text/plain": [
       "array([ 1.84355263,  1.84355263,  1.84355263, ..., -1.82073375,\n",
       "       -1.82073375, -1.82073375])"
      ]
     },
     "execution_count": 170,
     "metadata": {},
     "output_type": "execute_result"
    }
   ],
   "source": [
    "predict2"
   ]
  },
  {
   "cell_type": "code",
   "execution_count": 171,
   "metadata": {},
   "outputs": [],
   "source": [
    "st_test[\"Predicted rot_realised\"] =predict2"
   ]
  },
  {
   "cell_type": "code",
   "execution_count": 172,
   "metadata": {},
   "outputs": [
    {
     "data": {
      "text/html": [
       "<div>\n",
       "<style scoped>\n",
       "    .dataframe tbody tr th:only-of-type {\n",
       "        vertical-align: middle;\n",
       "    }\n",
       "\n",
       "    .dataframe tbody tr th {\n",
       "        vertical-align: top;\n",
       "    }\n",
       "\n",
       "    .dataframe thead th {\n",
       "        text-align: right;\n",
       "    }\n",
       "</style>\n",
       "<table border=\"1\" class=\"dataframe\">\n",
       "  <thead>\n",
       "    <tr style=\"text-align: right;\">\n",
       "      <th></th>\n",
       "      <th>trip</th>\n",
       "      <th>dt</th>\n",
       "      <th>x</th>\n",
       "      <th>y</th>\n",
       "      <th>speed</th>\n",
       "      <th>u</th>\n",
       "      <th>v</th>\n",
       "      <th>cog</th>\n",
       "      <th>heading</th>\n",
       "      <th>lat</th>\n",
       "      <th>lon</th>\n",
       "      <th>draft</th>\n",
       "      <th>rudder</th>\n",
       "      <th>rot_realized</th>\n",
       "      <th>Predicted rot_realised</th>\n",
       "    </tr>\n",
       "  </thead>\n",
       "  <tbody>\n",
       "    <tr>\n",
       "      <th>451484</th>\n",
       "      <td>14</td>\n",
       "      <td>2021-07-04T16:00:00.037575+00:00</td>\n",
       "      <td>3920563.738</td>\n",
       "      <td>3163362.399</td>\n",
       "      <td>0.051444</td>\n",
       "      <td>0.050473</td>\n",
       "      <td>-0.009949</td>\n",
       "      <td>166.416029</td>\n",
       "      <td>177.567353</td>\n",
       "      <td>51.438649</td>\n",
       "      <td>4.234213</td>\n",
       "      <td>1.812151</td>\n",
       "      <td>2.9</td>\n",
       "      <td>3.3</td>\n",
       "      <td>1.843553</td>\n",
       "    </tr>\n",
       "    <tr>\n",
       "      <th>451485</th>\n",
       "      <td>14</td>\n",
       "      <td>2021-07-04T16:00:00.349613+00:00</td>\n",
       "      <td>3920563.747</td>\n",
       "      <td>3163362.362</td>\n",
       "      <td>0.051444</td>\n",
       "      <td>0.050650</td>\n",
       "      <td>-0.009004</td>\n",
       "      <td>167.487329</td>\n",
       "      <td>177.567353</td>\n",
       "      <td>51.438649</td>\n",
       "      <td>4.234213</td>\n",
       "      <td>1.812151</td>\n",
       "      <td>3.2</td>\n",
       "      <td>3.3</td>\n",
       "      <td>1.843553</td>\n",
       "    </tr>\n",
       "    <tr>\n",
       "      <th>451486</th>\n",
       "      <td>14</td>\n",
       "      <td>2021-07-04T16:00:00.846008+00:00</td>\n",
       "      <td>3920563.745</td>\n",
       "      <td>3163362.343</td>\n",
       "      <td>0.051444</td>\n",
       "      <td>0.050590</td>\n",
       "      <td>-0.009338</td>\n",
       "      <td>167.116874</td>\n",
       "      <td>177.575190</td>\n",
       "      <td>51.438649</td>\n",
       "      <td>4.234213</td>\n",
       "      <td>1.812151</td>\n",
       "      <td>3.2</td>\n",
       "      <td>3.3</td>\n",
       "      <td>1.843553</td>\n",
       "    </tr>\n",
       "    <tr>\n",
       "      <th>451487</th>\n",
       "      <td>14</td>\n",
       "      <td>2021-07-04T16:00:01.347429+00:00</td>\n",
       "      <td>3920563.743</td>\n",
       "      <td>3163362.306</td>\n",
       "      <td>0.051444</td>\n",
       "      <td>0.051087</td>\n",
       "      <td>-0.006057</td>\n",
       "      <td>170.821657</td>\n",
       "      <td>177.582739</td>\n",
       "      <td>51.438648</td>\n",
       "      <td>4.234213</td>\n",
       "      <td>1.812151</td>\n",
       "      <td>3.2</td>\n",
       "      <td>3.3</td>\n",
       "      <td>1.843553</td>\n",
       "    </tr>\n",
       "    <tr>\n",
       "      <th>451488</th>\n",
       "      <td>14</td>\n",
       "      <td>2021-07-04T16:00:01.858551+00:00</td>\n",
       "      <td>3920563.741</td>\n",
       "      <td>3163362.288</td>\n",
       "      <td>0.056589</td>\n",
       "      <td>0.056427</td>\n",
       "      <td>-0.004280</td>\n",
       "      <td>173.245044</td>\n",
       "      <td>177.582739</td>\n",
       "      <td>51.438648</td>\n",
       "      <td>4.234213</td>\n",
       "      <td>1.812151</td>\n",
       "      <td>3.2</td>\n",
       "      <td>3.5</td>\n",
       "      <td>1.843553</td>\n",
       "    </tr>\n",
       "  </tbody>\n",
       "</table>\n",
       "</div>"
      ],
      "text/plain": [
       "        trip                                dt            x            y  \\\n",
       "451484    14  2021-07-04T16:00:00.037575+00:00  3920563.738  3163362.399   \n",
       "451485    14  2021-07-04T16:00:00.349613+00:00  3920563.747  3163362.362   \n",
       "451486    14  2021-07-04T16:00:00.846008+00:00  3920563.745  3163362.343   \n",
       "451487    14  2021-07-04T16:00:01.347429+00:00  3920563.743  3163362.306   \n",
       "451488    14  2021-07-04T16:00:01.858551+00:00  3920563.741  3163362.288   \n",
       "\n",
       "           speed         u         v         cog     heading        lat  \\\n",
       "451484  0.051444  0.050473 -0.009949  166.416029  177.567353  51.438649   \n",
       "451485  0.051444  0.050650 -0.009004  167.487329  177.567353  51.438649   \n",
       "451486  0.051444  0.050590 -0.009338  167.116874  177.575190  51.438649   \n",
       "451487  0.051444  0.051087 -0.006057  170.821657  177.582739  51.438648   \n",
       "451488  0.056589  0.056427 -0.004280  173.245044  177.582739  51.438648   \n",
       "\n",
       "             lon     draft  rudder  rot_realized  Predicted rot_realised  \n",
       "451484  4.234213  1.812151     2.9           3.3                1.843553  \n",
       "451485  4.234213  1.812151     3.2           3.3                1.843553  \n",
       "451486  4.234213  1.812151     3.2           3.3                1.843553  \n",
       "451487  4.234213  1.812151     3.2           3.3                1.843553  \n",
       "451488  4.234213  1.812151     3.2           3.5                1.843553  "
      ]
     },
     "execution_count": 172,
     "metadata": {},
     "output_type": "execute_result"
    }
   ],
   "source": [
    "#Preicted rot-realised via gradient boosting regression\n",
    "st_test.head()"
   ]
  },
  {
   "cell_type": "code",
   "execution_count": 173,
   "metadata": {},
   "outputs": [],
   "source": [
    "#Calculating the r2 score of the predicted data\n",
    "scoreGr = r2_score(y_test,predict2)"
   ]
  },
  {
   "cell_type": "code",
   "execution_count": 188,
   "metadata": {},
   "outputs": [
    {
     "name": "stdout",
     "output_type": "stream",
     "text": [
      " Gradient boosting regression Model Report\n",
      "MSE: 3.947072997883271\n",
      "Root MSE: 1.9867241876725796\n",
      "CV Score: 59.86503085131229\n",
      "R2 Score:  -1.8024157530674025\n"
     ]
    }
   ],
   "source": [
    "print(\" Gradient boosting regression Model Report\")\n",
    "print(\"MSE:\",mean_squared_error(y_test,predict2))\n",
    "print(\"Root MSE:\",sqrt(mean_squared_error(y_test,predict2)))\n",
    "print(\"CV Score:\", cv_score)\n",
    "print(\"R2 Score: \", scoreGr)"
   ]
  },
  {
   "cell_type": "code",
   "execution_count": 175,
   "metadata": {},
   "outputs": [
    {
     "data": {
      "image/png": "[encoded data removed]",
      "text/plain": [
       "<Figure size 288x216 with 1 Axes>"
      ]
     },
     "metadata": {
      "needs_background": "light"
     },
     "output_type": "display_data"
    }
   ],
   "source": [
    "#Gradient boosting regression Graph\n",
    "expected=y_test\n",
    "plt.figure(figsize=(4, 3))\n",
    "plt.scatter(expected, predict2)\n",
    "plt.plot([0, 50], [0, 50], '--k')\n",
    "plt.axis('tight')\n",
    "plt.title(\"Gradient boosting regression model Prediction\")\n",
    "plt.xlabel('Expected rot_realised')\n",
    "plt.ylabel('Predicted rot_realised')\n",
    "plt.tight_layout()"
   ]
  },
  {
   "cell_type": "code",
   "execution_count": 176,
   "metadata": {},
   "outputs": [],
   "source": [
    "#Random Forest Regression Model"
   ]
  },
  {
   "cell_type": "code",
   "execution_count": 177,
   "metadata": {},
   "outputs": [],
   "source": [
    "model3 = RandomForestRegressor()\n",
    "def train(model3, X, y):\n",
    "    # train the model\n",
    "    model3.fit(X, y)\n",
    "    \n",
    "    # predict the training set\n",
    "    predict3 = model3.predict(X)"
   ]
  },
  {
   "cell_type": "code",
   "execution_count": 178,
   "metadata": {},
   "outputs": [
    {
     "data": {
      "text/plain": [
       "RandomForestRegressor()"
      ]
     },
     "execution_count": 178,
     "metadata": {},
     "output_type": "execute_result"
    }
   ],
   "source": [
    "model3.fit(X_train,y_train)"
   ]
  },
  {
   "cell_type": "code",
   "execution_count": 179,
   "metadata": {},
   "outputs": [],
   "source": [
    "predict3 =model3.predict(X_test)"
   ]
  },
  {
   "cell_type": "code",
   "execution_count": 180,
   "metadata": {},
   "outputs": [
    {
     "data": {
      "text/plain": [
       "array([0.297, 0.341, 0.337, ..., 1.446, 1.336, 1.446])"
      ]
     },
     "execution_count": 180,
     "metadata": {},
     "output_type": "execute_result"
    }
   ],
   "source": [
    "predict3"
   ]
  },
  {
   "cell_type": "code",
   "execution_count": 181,
   "metadata": {},
   "outputs": [],
   "source": [
    "st_test[\"Predicted rot_realised\"] =predict3"
   ]
  },
  {
   "cell_type": "code",
   "execution_count": 182,
   "metadata": {},
   "outputs": [
    {
     "data": {
      "text/html": [
       "<div>\n",
       "<style scoped>\n",
       "    .dataframe tbody tr th:only-of-type {\n",
       "        vertical-align: middle;\n",
       "    }\n",
       "\n",
       "    .dataframe tbody tr th {\n",
       "        vertical-align: top;\n",
       "    }\n",
       "\n",
       "    .dataframe thead th {\n",
       "        text-align: right;\n",
       "    }\n",
       "</style>\n",
       "<table border=\"1\" class=\"dataframe\">\n",
       "  <thead>\n",
       "    <tr style=\"text-align: right;\">\n",
       "      <th></th>\n",
       "      <th>trip</th>\n",
       "      <th>dt</th>\n",
       "      <th>x</th>\n",
       "      <th>y</th>\n",
       "      <th>speed</th>\n",
       "      <th>u</th>\n",
       "      <th>v</th>\n",
       "      <th>cog</th>\n",
       "      <th>heading</th>\n",
       "      <th>lat</th>\n",
       "      <th>lon</th>\n",
       "      <th>draft</th>\n",
       "      <th>rudder</th>\n",
       "      <th>rot_realized</th>\n",
       "      <th>Predicted rot_realised</th>\n",
       "    </tr>\n",
       "  </thead>\n",
       "  <tbody>\n",
       "    <tr>\n",
       "      <th>451484</th>\n",
       "      <td>14</td>\n",
       "      <td>2021-07-04T16:00:00.037575+00:00</td>\n",
       "      <td>3920563.738</td>\n",
       "      <td>3163362.399</td>\n",
       "      <td>0.051444</td>\n",
       "      <td>0.050473</td>\n",
       "      <td>-0.009949</td>\n",
       "      <td>166.416029</td>\n",
       "      <td>177.567353</td>\n",
       "      <td>51.438649</td>\n",
       "      <td>4.234213</td>\n",
       "      <td>1.812151</td>\n",
       "      <td>2.9</td>\n",
       "      <td>3.3</td>\n",
       "      <td>0.297</td>\n",
       "    </tr>\n",
       "    <tr>\n",
       "      <th>451485</th>\n",
       "      <td>14</td>\n",
       "      <td>2021-07-04T16:00:00.349613+00:00</td>\n",
       "      <td>3920563.747</td>\n",
       "      <td>3163362.362</td>\n",
       "      <td>0.051444</td>\n",
       "      <td>0.050650</td>\n",
       "      <td>-0.009004</td>\n",
       "      <td>167.487329</td>\n",
       "      <td>177.567353</td>\n",
       "      <td>51.438649</td>\n",
       "      <td>4.234213</td>\n",
       "      <td>1.812151</td>\n",
       "      <td>3.2</td>\n",
       "      <td>3.3</td>\n",
       "      <td>0.341</td>\n",
       "    </tr>\n",
       "    <tr>\n",
       "      <th>451486</th>\n",
       "      <td>14</td>\n",
       "      <td>2021-07-04T16:00:00.846008+00:00</td>\n",
       "      <td>3920563.745</td>\n",
       "      <td>3163362.343</td>\n",
       "      <td>0.051444</td>\n",
       "      <td>0.050590</td>\n",
       "      <td>-0.009338</td>\n",
       "      <td>167.116874</td>\n",
       "      <td>177.575190</td>\n",
       "      <td>51.438649</td>\n",
       "      <td>4.234213</td>\n",
       "      <td>1.812151</td>\n",
       "      <td>3.2</td>\n",
       "      <td>3.3</td>\n",
       "      <td>0.337</td>\n",
       "    </tr>\n",
       "    <tr>\n",
       "      <th>451487</th>\n",
       "      <td>14</td>\n",
       "      <td>2021-07-04T16:00:01.347429+00:00</td>\n",
       "      <td>3920563.743</td>\n",
       "      <td>3163362.306</td>\n",
       "      <td>0.051444</td>\n",
       "      <td>0.051087</td>\n",
       "      <td>-0.006057</td>\n",
       "      <td>170.821657</td>\n",
       "      <td>177.582739</td>\n",
       "      <td>51.438648</td>\n",
       "      <td>4.234213</td>\n",
       "      <td>1.812151</td>\n",
       "      <td>3.2</td>\n",
       "      <td>3.3</td>\n",
       "      <td>0.574</td>\n",
       "    </tr>\n",
       "    <tr>\n",
       "      <th>451488</th>\n",
       "      <td>14</td>\n",
       "      <td>2021-07-04T16:00:01.858551+00:00</td>\n",
       "      <td>3920563.741</td>\n",
       "      <td>3163362.288</td>\n",
       "      <td>0.056589</td>\n",
       "      <td>0.056427</td>\n",
       "      <td>-0.004280</td>\n",
       "      <td>173.245044</td>\n",
       "      <td>177.582739</td>\n",
       "      <td>51.438648</td>\n",
       "      <td>4.234213</td>\n",
       "      <td>1.812151</td>\n",
       "      <td>3.2</td>\n",
       "      <td>3.5</td>\n",
       "      <td>0.510</td>\n",
       "    </tr>\n",
       "  </tbody>\n",
       "</table>\n",
       "</div>"
      ],
      "text/plain": [
       "        trip                                dt            x            y  \\\n",
       "451484    14  2021-07-04T16:00:00.037575+00:00  3920563.738  3163362.399   \n",
       "451485    14  2021-07-04T16:00:00.349613+00:00  3920563.747  3163362.362   \n",
       "451486    14  2021-07-04T16:00:00.846008+00:00  3920563.745  3163362.343   \n",
       "451487    14  2021-07-04T16:00:01.347429+00:00  3920563.743  3163362.306   \n",
       "451488    14  2021-07-04T16:00:01.858551+00:00  3920563.741  3163362.288   \n",
       "\n",
       "           speed         u         v         cog     heading        lat  \\\n",
       "451484  0.051444  0.050473 -0.009949  166.416029  177.567353  51.438649   \n",
       "451485  0.051444  0.050650 -0.009004  167.487329  177.567353  51.438649   \n",
       "451486  0.051444  0.050590 -0.009338  167.116874  177.575190  51.438649   \n",
       "451487  0.051444  0.051087 -0.006057  170.821657  177.582739  51.438648   \n",
       "451488  0.056589  0.056427 -0.004280  173.245044  177.582739  51.438648   \n",
       "\n",
       "             lon     draft  rudder  rot_realized  Predicted rot_realised  \n",
       "451484  4.234213  1.812151     2.9           3.3                   0.297  \n",
       "451485  4.234213  1.812151     3.2           3.3                   0.341  \n",
       "451486  4.234213  1.812151     3.2           3.3                   0.337  \n",
       "451487  4.234213  1.812151     3.2           3.3                   0.574  \n",
       "451488  4.234213  1.812151     3.2           3.5                   0.510  "
      ]
     },
     "execution_count": 182,
     "metadata": {},
     "output_type": "execute_result"
    }
   ],
   "source": [
    "st_test.head()"
   ]
  },
  {
   "cell_type": "code",
   "execution_count": 183,
   "metadata": {},
   "outputs": [],
   "source": [
    "cv_score = cross_val_score(model3, X, y, scoring='neg_mean_squared_error', cv=5)\n",
    "cv_score = np.abs(np.mean(cv_score))"
   ]
  },
  {
   "cell_type": "code",
   "execution_count": 184,
   "metadata": {},
   "outputs": [],
   "source": [
    "scoreRfr = r2_score(y_test,predict3)"
   ]
  },
  {
   "cell_type": "code",
   "execution_count": 185,
   "metadata": {},
   "outputs": [
    {
     "name": "stdout",
     "output_type": "stream",
     "text": [
      "Random Forest regression Model Report\n",
      "Root MSE: 2.9484427272109306\n",
      "MSE: 8.693314515643031\n",
      "CV Score: 59.86503085131229\n",
      "R2 Score:  0.9988732493684276\n"
     ]
    }
   ],
   "source": [
    "print(\"Random Forest regression Model Report\")\n",
    "print(\"Root MSE:\",sqrt(mean_squared_error(y_test,predict3)))\n",
    "print(\"MSE:\",mean_squared_error(y_test,predict3))\n",
    "print(\"CV Score:\", cv_score)\n",
    "print(\"R2 Score: \", scoreRfr)"
   ]
  },
  {
   "cell_type": "code",
   "execution_count": null,
   "metadata": {},
   "outputs": [],
   "source": []
  },
  {
   "cell_type": "code",
   "execution_count": 186,
   "metadata": {},
   "outputs": [
    {
     "data": {
      "image/png": "[encoded data removed]",
      "text/plain": [
       "<Figure size 288x216 with 1 Axes>"
      ]
     },
     "metadata": {
      "needs_background": "light"
     },
     "output_type": "display_data"
    }
   ],
   "source": [
    "#Random Forest regression Graph\n",
    "expected=y_test\n",
    "plt.figure(figsize=(4, 3))\n",
    "plt.scatter(expected, predict2)\n",
    "plt.plot([0, 50], [0, 50], '--k')\n",
    "plt.axis('tight')\n",
    "plt.title(\"Random Forest Regression model Prediction\")\n",
    "plt.xlabel('Expected rot_realised')\n",
    "plt.ylabel('Predicted rot_realised')\n",
    "plt.tight_layout()"
   ]
  },
  {
   "cell_type": "code",
   "execution_count": null,
   "metadata": {},
   "outputs": [],
   "source": [
    "# Model Evaluation"
   ]
  },
  {
   "cell_type": "code",
   "execution_count": 189,
   "metadata": {},
   "outputs": [
    {
     "data": {
      "image/png": "[encoded data removed]",
      "text/plain": [
       "<Figure size 720x360 with 1 Axes>"
      ]
     },
     "metadata": {
      "needs_background": "light"
     },
     "output_type": "display_data"
    }
   ],
   "source": [
    "# R2 Scores of the models\n",
    "data_dict = {'scoreLR':-0.7878466063553871, 'scoreGr': -1.8024157530674025, 'scoreRf':0.9988732493684276}\n",
    "scores = list(data_dict.keys())\n",
    "values = list(data_dict.values())\n",
    "fig = plt.figure(figsize = (10, 5))\n",
    "#  Bar plot\n",
    "plt.bar(scores, values, color ='red',\n",
    "        width = 0.5)\n",
    "plt.xlabel(\"R2 Scores\")\n",
    "plt.ylabel(\"Percentage\")\n",
    "plt.title(\"Scores of the models\")\n",
    "plt.show()"
   ]
  },
  {
   "cell_type": "code",
   "execution_count": 187,
   "metadata": {},
   "outputs": [
    {
     "data": {
      "image/png": "[encoded data removed]",
      "text/plain": [
       "<Figure size 720x360 with 1 Axes>"
      ]
     },
     "metadata": {
      "needs_background": "light"
     },
     "output_type": "display_data"
    }
   ],
   "source": [
    "#MSE of the models\n",
    "data_dict = {'Linear Regression':5.546041067518437, 'Gradient Boosting Regression':3.947072997883271, 'Random Forest': 8.693314515643031}\n",
    "scores = list(data_dict.keys())\n",
    "values = list(data_dict.values())\n",
    "fig = plt.figure(figsize = (10, 5))\n",
    "#  Bar plot\n",
    "plt.bar(scores, values, color ='blue',\n",
    "        width = 0.5)\n",
    "plt.xlabel(\"Models\")\n",
    "plt.ylabel(\"Mean Squared Errors\")\n",
    "plt.title(\"MSE of models\")\n",
    "plt.show()"
   ]
  },
  {
   "cell_type": "code",
   "execution_count": 191,
   "metadata": {},
   "outputs": [
    {
     "data": {
      "image/png": "[encoded data removed]",
      "text/plain": [
       "<Figure size 720x360 with 1 Axes>"
      ]
     },
     "metadata": {
      "needs_background": "light"
     },
     "output_type": "display_data"
    }
   ],
   "source": [
    "# Root MSE of the models\n",
    "data_dict = {'Linear Regression': 2.3550034113602547, 'Gradient Boosting Regression':1.9867241876725796, 'Random Forest': 2.9484427272109306}\n",
    "scores = list(data_dict.keys())\n",
    "values = list(data_dict.values())\n",
    "fig = plt.figure(figsize = (10, 5))\n",
    "#  Bar plot\n",
    "plt.bar(scores, values, color ='green',\n",
    "        width = 0.5)\n",
    "plt.xlabel(\"Models\")\n",
    "plt.ylabel(\"Root Mean Squared Errors\")\n",
    "plt.title(\"Root MSE of models\")\n",
    "plt.show()"
   ]
  },
  {
   "cell_type": "code",
   "execution_count": 193,
   "metadata": {},
   "outputs": [
    {
     "data": {
      "image/png": "[encoded data removed]",
      "text/plain": [
       "<Figure size 720x360 with 1 Axes>"
      ]
     },
     "metadata": {
      "needs_background": "light"
     },
     "output_type": "display_data"
    }
   ],
   "source": [
    "#CV score of the models\n",
    "data_dict = {'Linear Regression': 38.24542927147867, 'Gradient Boosting Regression':59.86503085131229, 'Random Forest':59.86503085131229}\n",
    "scores = list(data_dict.keys())\n",
    "values = list(data_dict.values())\n",
    "fig = plt.figure(figsize = (10, 5))\n",
    "#  Bar plot\n",
    "plt.bar(scores, values, color ='yellow',\n",
    "        width = 0.5)\n",
    "plt.xlabel(\"Models\")\n",
    "plt.ylabel(\"CV score\")\n",
    "plt.title(\"CV score models\")\n",
    "plt.show()"
   ]
  },
  {
   "cell_type": "code",
   "execution_count": null,
   "metadata": {},
   "outputs": [],
   "source": []
  }
 ],
 "metadata": {
  "kernelspec": {
   "display_name": "Python 3",
   "language": "python",
   "name": "python3"
  },
  "language_info": {
   "codemirror_mode": {
    "name": "ipython",
    "version": 3
   },
   "file_extension": ".py",
   "mimetype": "text/x-python",
   "name": "python",
   "nbconvert_exporter": "python",
   "pygments_lexer": "ipython3",
   "version": "3.8.3"
  }
 },
 "nbformat": 4,
 "nbformat_minor": 4
}
